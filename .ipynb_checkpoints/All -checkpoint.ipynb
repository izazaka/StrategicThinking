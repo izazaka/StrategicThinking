{
 "cells": [
  {
   "cell_type": "markdown",
   "id": "1c87f23a",
   "metadata": {},
   "source": [
    "Assessment Task\n",
    "This assessment aims to evaluate your ability to apply project management methodology to develop and execute a capstone project. You will select a dataset, conduct exploratory data analysis, pre-process the data, implement at least one machine learning algorithm, and present your findings effectively through a comprehensive report. The capstone project will be based on a dataset of your choice from any domain, such as finance, marketing, or any other.\n",
    "\n",
    "You will submit a comprehensive report detailing the project plan, business understanding, data understanding, data preparation, machine learning implementation, and an artefact of code. The report should also include a summary of the findings, conclusions, and any future recommendations. The report should be presented in a clear and concise manner, and it should demonstrate your ability to use a project management methodology. The project management methodology should enable you to prioritise tasks and monitor the progress of the capstone project. Additionally, the report should provide an overview of the project's timeline, milestones achieved, and any challenges faced during the implementation phase. It should highlight the key insights gained from analysing the data and present any significant trends or patterns observed. Moreover, the report should address any limitations or constraints encountered during the project and propose potential solutions for future improvements. \n",
    "\n",
    "Further details of the assessment:\n",
    "A GitHub repo must be created, and the Jupyter Notebook and report Word document must be put into a GitHub repo for version control. The lecturer will be added to the repo as a collaborator. The GitHub repo link will be added at the end of the report. There should be at least 5 to 10 commits throughout the time worked on the project.\n",
    "Exploratory data analysis of your dataset. Use descriptive statistics.\n",
    "Use at least one machine learning algorithm.\n",
    "Support your analysis with references and properly reference ALL sources that you have used. WARNING – If you do not support your work, you will not receive a high mark!\n",
    "\n",
    "WORD COUNT: 2,000 words. If your report is too short or long, you may lose up to 10% of marks!\n"
   ]
  },
  {
   "cell_type": "code",
   "execution_count": 1,
   "id": "47845496",
   "metadata": {},
   "outputs": [],
   "source": [
    "import pandas as pd\n",
    "\n",
    "import pandas as pd\n",
    "\n",
    "import numpy as np\n",
    "\n",
    "import matplotlib as mpl\n",
    "\n",
    "import matplotlib.pyplot as plt\n",
    "\n",
    "import seaborn as sns \n",
    "\n",
    "sns.set(color_codes = True)\n",
    "\n",
    "import statistics as stats\n",
    "\n",
    "%matplotlib inline\n",
    "\n",
    "from scipy.stats import binom\n",
    "\n",
    "from scipy.stats import poisson\n",
    "\n",
    "from scipy.stats import norm\n",
    "\n",
    "import scipy.stats as ss"
   ]
  },
  {
   "cell_type": "code",
   "execution_count": 2,
   "id": "1dc55ca0",
   "metadata": {},
   "outputs": [
    {
     "name": "stdout",
     "output_type": "stream",
     "text": [
      "Requirement already satisfied: emoji in /Users/izaiaszacca/anaconda3/lib/python3.11/site-packages (2.8.0)\n",
      "Note: you may need to restart the kernel to use updated packages.\n"
     ]
    }
   ],
   "source": [
    "pip install emoji\n"
   ]
  },
  {
   "cell_type": "code",
   "execution_count": 3,
   "id": "27200250",
   "metadata": {},
   "outputs": [
    {
     "name": "stdout",
     "output_type": "stream",
     "text": [
      "Requirement already satisfied: genderize in /Users/izaiaszacca/anaconda3/lib/python3.11/site-packages (0.3.1)\n",
      "Requirement already satisfied: requests>=1.0.0 in /Users/izaiaszacca/anaconda3/lib/python3.11/site-packages (from genderize) (2.31.0)\n",
      "Requirement already satisfied: charset-normalizer<4,>=2 in /Users/izaiaszacca/anaconda3/lib/python3.11/site-packages (from requests>=1.0.0->genderize) (2.0.4)\n",
      "Requirement already satisfied: idna<4,>=2.5 in /Users/izaiaszacca/anaconda3/lib/python3.11/site-packages (from requests>=1.0.0->genderize) (2.10)\n",
      "Requirement already satisfied: urllib3<3,>=1.21.1 in /Users/izaiaszacca/anaconda3/lib/python3.11/site-packages (from requests>=1.0.0->genderize) (1.26.16)\n",
      "Requirement already satisfied: certifi>=2017.4.17 in /Users/izaiaszacca/anaconda3/lib/python3.11/site-packages (from requests>=1.0.0->genderize) (2023.11.17)\n",
      "Note: you may need to restart the kernel to use updated packages.\n"
     ]
    }
   ],
   "source": [
    "pip install genderize\n"
   ]
  },
  {
   "cell_type": "code",
   "execution_count": 4,
   "id": "4e4ffa7f",
   "metadata": {},
   "outputs": [
    {
     "name": "stdout",
     "output_type": "stream",
     "text": [
      "Requirement already satisfied: gender-guesser in /Users/izaiaszacca/anaconda3/lib/python3.11/site-packages (0.4.0)\n",
      "Note: you may need to restart the kernel to use updated packages.\n"
     ]
    }
   ],
   "source": [
    "pip install gender-guesser"
   ]
  },
  {
   "cell_type": "code",
   "execution_count": 5,
   "id": "2d52cb7d",
   "metadata": {},
   "outputs": [],
   "source": [
    "f = pd.read_csv(\"file2793.csv\")"
   ]
  },
  {
   "cell_type": "code",
   "execution_count": 6,
   "id": "3ed63d05",
   "metadata": {},
   "outputs": [
    {
     "data": {
      "text/html": [
       "<div>\n",
       "<style scoped>\n",
       "    .dataframe tbody tr th:only-of-type {\n",
       "        vertical-align: middle;\n",
       "    }\n",
       "\n",
       "    .dataframe tbody tr th {\n",
       "        vertical-align: top;\n",
       "    }\n",
       "\n",
       "    .dataframe thead th {\n",
       "        text-align: right;\n",
       "    }\n",
       "</style>\n",
       "<table border=\"1\" class=\"dataframe\">\n",
       "  <thead>\n",
       "    <tr style=\"text-align: right;\">\n",
       "      <th></th>\n",
       "      <th>displayName</th>\n",
       "      <th>starRating</th>\n",
       "      <th>comment</th>\n",
       "      <th>createTime</th>\n",
       "      <th>updateTime</th>\n",
       "      <th>reviewer_name</th>\n",
       "      <th>review_id</th>\n",
       "    </tr>\n",
       "  </thead>\n",
       "  <tbody>\n",
       "    <tr>\n",
       "      <th>0</th>\n",
       "      <td>Cássio Trajano</td>\n",
       "      <td>FIVE</td>\n",
       "      <td>(Translated by Google) I'm there every beginni...</td>\n",
       "      <td>2019-01-29T16:49:28.556676Z</td>\n",
       "      <td>2019-01-29T16:49:28.556676Z</td>\n",
       "      <td>Cássio Trajano</td>\n",
       "      <td>ChdDSUhNMG9nS0VJQ0FnSURJdjktNTN3RRAB</td>\n",
       "    </tr>\n",
       "    <tr>\n",
       "      <th>1</th>\n",
       "      <td>Danielle cristine faria de oliveira</td>\n",
       "      <td>FIVE</td>\n",
       "      <td>(Translated by Google) Very beautiful and plea...</td>\n",
       "      <td>2019-01-28T14:40:59.180127Z</td>\n",
       "      <td>2019-01-28T14:40:59.180127Z</td>\n",
       "      <td>Danielle cristine faria de oliveira</td>\n",
       "      <td>ChdDSUhNMG9nS0VJQ0FnSURJbjdMczlRRRAB</td>\n",
       "    </tr>\n",
       "    <tr>\n",
       "      <th>2</th>\n",
       "      <td>Arthursousa Vieira</td>\n",
       "      <td>FIVE</td>\n",
       "      <td>(Translated by Google) One of the best canping...</td>\n",
       "      <td>2019-01-28T02:05:47.566036Z</td>\n",
       "      <td>2019-01-28T02:05:47.566036Z</td>\n",
       "      <td>Arthursousa Vieira</td>\n",
       "      <td>ChZDSUhNMG9nS0VJQ0FnSURJcjYtZGFREAE</td>\n",
       "    </tr>\n",
       "    <tr>\n",
       "      <th>3</th>\n",
       "      <td>EVANDERSON ALEXANDRE</td>\n",
       "      <td>FIVE</td>\n",
       "      <td>(Translated by Google) Family place but I foun...</td>\n",
       "      <td>2019-01-28T00:56:38.167475Z</td>\n",
       "      <td>2019-01-28T00:56:38.167475Z</td>\n",
       "      <td>EVANDERSON ALEXANDRE</td>\n",
       "      <td>ChZDSUhNMG9nS0VJQ0FnSURJcjl2eVBnEAE</td>\n",
       "    </tr>\n",
       "    <tr>\n",
       "      <th>4</th>\n",
       "      <td>Richard Xavier</td>\n",
       "      <td>FIVE</td>\n",
       "      <td>(Translated by Google) Great place! Affordable...</td>\n",
       "      <td>2019-01-27T20:42:17.239839Z</td>\n",
       "      <td>2019-01-27T20:43:28.501122Z</td>\n",
       "      <td>Richard Xavier</td>\n",
       "      <td>ChdDSUhNMG9nS0VJQ0FnSURJcl9iMDV3RRAB</td>\n",
       "    </tr>\n",
       "  </tbody>\n",
       "</table>\n",
       "</div>"
      ],
      "text/plain": [
       "                           displayName starRating  \\\n",
       "0                       Cássio Trajano       FIVE   \n",
       "1  Danielle cristine faria de oliveira       FIVE   \n",
       "2                   Arthursousa Vieira       FIVE   \n",
       "3                 EVANDERSON ALEXANDRE       FIVE   \n",
       "4                       Richard Xavier       FIVE   \n",
       "\n",
       "                                             comment  \\\n",
       "0  (Translated by Google) I'm there every beginni...   \n",
       "1  (Translated by Google) Very beautiful and plea...   \n",
       "2  (Translated by Google) One of the best canping...   \n",
       "3  (Translated by Google) Family place but I foun...   \n",
       "4  (Translated by Google) Great place! Affordable...   \n",
       "\n",
       "                    createTime                   updateTime  \\\n",
       "0  2019-01-29T16:49:28.556676Z  2019-01-29T16:49:28.556676Z   \n",
       "1  2019-01-28T14:40:59.180127Z  2019-01-28T14:40:59.180127Z   \n",
       "2  2019-01-28T02:05:47.566036Z  2019-01-28T02:05:47.566036Z   \n",
       "3  2019-01-28T00:56:38.167475Z  2019-01-28T00:56:38.167475Z   \n",
       "4  2019-01-27T20:42:17.239839Z  2019-01-27T20:43:28.501122Z   \n",
       "\n",
       "                         reviewer_name                             review_id  \n",
       "0                       Cássio Trajano  ChdDSUhNMG9nS0VJQ0FnSURJdjktNTN3RRAB  \n",
       "1  Danielle cristine faria de oliveira  ChdDSUhNMG9nS0VJQ0FnSURJbjdMczlRRRAB  \n",
       "2                   Arthursousa Vieira   ChZDSUhNMG9nS0VJQ0FnSURJcjYtZGFREAE  \n",
       "3                 EVANDERSON ALEXANDRE   ChZDSUhNMG9nS0VJQ0FnSURJcjl2eVBnEAE  \n",
       "4                       Richard Xavier  ChdDSUhNMG9nS0VJQ0FnSURJcl9iMDV3RRAB  "
      ]
     },
     "execution_count": 6,
     "metadata": {},
     "output_type": "execute_result"
    }
   ],
   "source": [
    "f.head()"
   ]
  },
  {
   "cell_type": "code",
   "execution_count": 7,
   "id": "2adaa2c1",
   "metadata": {},
   "outputs": [
    {
     "name": "stdout",
     "output_type": "stream",
     "text": [
      "<class 'pandas.core.frame.DataFrame'>\n",
      "RangeIndex: 2793 entries, 0 to 2792\n",
      "Data columns (total 7 columns):\n",
      " #   Column         Non-Null Count  Dtype \n",
      "---  ------         --------------  ----- \n",
      " 0   displayName    2793 non-null   object\n",
      " 1   starRating     2793 non-null   object\n",
      " 2   comment        1648 non-null   object\n",
      " 3   createTime     2793 non-null   object\n",
      " 4   updateTime     2793 non-null   object\n",
      " 5   reviewer_name  2793 non-null   object\n",
      " 6   review_id      2793 non-null   object\n",
      "dtypes: object(7)\n",
      "memory usage: 152.9+ KB\n"
     ]
    }
   ],
   "source": [
    "f.info()"
   ]
  },
  {
   "cell_type": "markdown",
   "id": "b9950ac0",
   "metadata": {},
   "source": [
    "import pandas as pd\n",
    "\n",
    "# Your DataFrame with a 'comment' column\n",
    "data = f[\"comment\"]\n",
    "df = pd.DataFrame(data)\n",
    "\n",
    "# Extract the text before and after \"(Original)\"\n",
    "split_df = df['comment'].str.split('(Original)', expand=True, n=1)\n",
    "df['before_original'] = split_df[0]\n",
    "df['after_original'] = split_df[1]\n",
    "\n",
    "# Display the DataFrame with new columns\n",
    "print(df[['comment', 'before_original', 'after_original']])\n"
   ]
  },
  {
   "cell_type": "markdown",
   "id": "e25c6c9e",
   "metadata": {},
   "source": [
    "df[\"before_original\"]"
   ]
  },
  {
   "cell_type": "markdown",
   "id": "592db513",
   "metadata": {},
   "source": [
    "df[\"before_original\"].loc[3]"
   ]
  },
  {
   "cell_type": "markdown",
   "id": "1376efcf",
   "metadata": {},
   "source": [
    "df[\"before_original\"].loc[30]"
   ]
  },
  {
   "cell_type": "markdown",
   "id": "2f8abf76",
   "metadata": {},
   "source": [
    "df[\"after_original\"].loc[30]"
   ]
  },
  {
   "cell_type": "markdown",
   "id": "bdab3834",
   "metadata": {},
   "source": [
    "text_before_original = df[\"before_original\"].loc[30]\n",
    "print(text_before_original)\n"
   ]
  },
  {
   "cell_type": "markdown",
   "id": "f405f8d2",
   "metadata": {},
   "source": [
    "text_before_original = df[\"before_original\"].loc[60]\n",
    "print(text_before_original)\n"
   ]
  },
  {
   "cell_type": "markdown",
   "id": "1a03fa63",
   "metadata": {},
   "source": [
    "f[\"comment\"].loc[60]"
   ]
  },
  {
   "cell_type": "markdown",
   "id": "24c9eff7",
   "metadata": {},
   "source": [
    "f[\"comment\"].loc[3]"
   ]
  },
  {
   "cell_type": "code",
   "execution_count": 8,
   "id": "d6d1de3d",
   "metadata": {},
   "outputs": [
    {
     "data": {
      "text/plain": [
       "array(['FIVE', 'THREE', 'FOUR', 'TWO', 'ONE'], dtype=object)"
      ]
     },
     "execution_count": 8,
     "metadata": {},
     "output_type": "execute_result"
    }
   ],
   "source": [
    "f[\"starRating\"].unique()"
   ]
  },
  {
   "cell_type": "code",
   "execution_count": 9,
   "id": "c8113d14",
   "metadata": {},
   "outputs": [],
   "source": [
    "f[\"starRating\"].replace('ONE', 1, inplace = True)\n",
    "f[\"starRating\"].replace('TWO', 2, inplace = True)\n",
    "f[\"starRating\"].replace('THREE', 3, inplace = True)\n",
    "f[\"starRating\"].replace('FOUR', 4, inplace = True)\n",
    "f[\"starRating\"].replace('FIVE', 5, inplace = True)"
   ]
  },
  {
   "cell_type": "code",
   "execution_count": 10,
   "id": "5ae2631d",
   "metadata": {},
   "outputs": [],
   "source": [
    "import pandas as pd\n",
    "\n",
    "# Assuming your DataFrame is named 'f' with a 'comment' column\n",
    "f['comment'] = f['comment'].astype(str)  # Ensure the 'comment' column is of string type\n",
    "\n",
    "# Extract the text before and after \"(Original)\"\n",
    "split_df = f['comment'].str.split('(Original)', expand=True, n=1)\n",
    "f['before_original'] = split_df[0]\n",
    "f['after_original'] = split_df[1]\n",
    "\n",
    "# Display the DataFrame with new columns\n",
    "#print(f[['comment', 'before_original', 'after_original']])\n"
   ]
  },
  {
   "cell_type": "code",
   "execution_count": 11,
   "id": "9f6b5601",
   "metadata": {},
   "outputs": [
    {
     "data": {
      "text/html": [
       "<div>\n",
       "<style scoped>\n",
       "    .dataframe tbody tr th:only-of-type {\n",
       "        vertical-align: middle;\n",
       "    }\n",
       "\n",
       "    .dataframe tbody tr th {\n",
       "        vertical-align: top;\n",
       "    }\n",
       "\n",
       "    .dataframe thead th {\n",
       "        text-align: right;\n",
       "    }\n",
       "</style>\n",
       "<table border=\"1\" class=\"dataframe\">\n",
       "  <thead>\n",
       "    <tr style=\"text-align: right;\">\n",
       "      <th></th>\n",
       "      <th>displayName</th>\n",
       "      <th>starRating</th>\n",
       "      <th>comment</th>\n",
       "      <th>createTime</th>\n",
       "      <th>updateTime</th>\n",
       "      <th>reviewer_name</th>\n",
       "      <th>review_id</th>\n",
       "      <th>before_original</th>\n",
       "      <th>after_original</th>\n",
       "    </tr>\n",
       "  </thead>\n",
       "  <tbody>\n",
       "    <tr>\n",
       "      <th>2788</th>\n",
       "      <td>Reinaldo Soares da Silva</td>\n",
       "      <td>5</td>\n",
       "      <td>nan</td>\n",
       "      <td>2018-01-22T21:10:06.355Z</td>\n",
       "      <td>2018-01-22T21:10:06.355Z</td>\n",
       "      <td>Reinaldo Soares da Silva</td>\n",
       "      <td>ChZDSUhNMG9nS0VJQ0FnSURBbGYtM0pBEAE</td>\n",
       "      <td>nan</td>\n",
       "      <td>None</td>\n",
       "    </tr>\n",
       "    <tr>\n",
       "      <th>2789</th>\n",
       "      <td>Fael Faul</td>\n",
       "      <td>5</td>\n",
       "      <td>(Translated by Google) Too good\\n\\n(Original)\\...</td>\n",
       "      <td>2018-01-21T21:24:40.996Z</td>\n",
       "      <td>2018-01-21T21:24:40.996Z</td>\n",
       "      <td>Fael Faul</td>\n",
       "      <td>ChdDSUhNMG9nS0VJQ0FnSUNRLTU3UjNnRRAB</td>\n",
       "      <td>(Translated by Google) Too good\\n\\n(</td>\n",
       "      <td>Original</td>\n",
       "    </tr>\n",
       "    <tr>\n",
       "      <th>2790</th>\n",
       "      <td>Eliana Azevedo</td>\n",
       "      <td>5</td>\n",
       "      <td>nan</td>\n",
       "      <td>2018-01-20T21:07:19.716Z</td>\n",
       "      <td>2018-01-20T21:07:19.716Z</td>\n",
       "      <td>Eliana Azevedo</td>\n",
       "      <td>ChdDSUhNMG9nS0VJQ0FnSUNnNnR5RnNnRRAB</td>\n",
       "      <td>nan</td>\n",
       "      <td>None</td>\n",
       "    </tr>\n",
       "    <tr>\n",
       "      <th>2791</th>\n",
       "      <td>Silvia Aquino</td>\n",
       "      <td>5</td>\n",
       "      <td>nan</td>\n",
       "      <td>2018-01-20T18:15:38.871Z</td>\n",
       "      <td>2018-01-20T18:15:38.871Z</td>\n",
       "      <td>Silvia Aquino</td>\n",
       "      <td>ChZDSUhNMG9nS0VJQ0FnSURBbHNEdUt3EAE</td>\n",
       "      <td>nan</td>\n",
       "      <td>None</td>\n",
       "    </tr>\n",
       "    <tr>\n",
       "      <th>2792</th>\n",
       "      <td>Marcelo o empreendedor</td>\n",
       "      <td>5</td>\n",
       "      <td>(Translated by Google) The group played paintb...</td>\n",
       "      <td>2018-01-20T15:32:53.260Z</td>\n",
       "      <td>2018-01-20T15:34:48.062Z</td>\n",
       "      <td>Marcelo o empreendedor</td>\n",
       "      <td>ChdDSUhNMG9nS0VJQ0FnSUNZaUtiLW1BRRAB</td>\n",
       "      <td>(Translated by Google) The group played paintb...</td>\n",
       "      <td>Original</td>\n",
       "    </tr>\n",
       "  </tbody>\n",
       "</table>\n",
       "</div>"
      ],
      "text/plain": [
       "                   displayName  starRating  \\\n",
       "2788  Reinaldo Soares da Silva           5   \n",
       "2789                 Fael Faul           5   \n",
       "2790            Eliana Azevedo           5   \n",
       "2791             Silvia Aquino           5   \n",
       "2792    Marcelo o empreendedor           5   \n",
       "\n",
       "                                                comment  \\\n",
       "2788                                                nan   \n",
       "2789  (Translated by Google) Too good\\n\\n(Original)\\...   \n",
       "2790                                                nan   \n",
       "2791                                                nan   \n",
       "2792  (Translated by Google) The group played paintb...   \n",
       "\n",
       "                    createTime                updateTime  \\\n",
       "2788  2018-01-22T21:10:06.355Z  2018-01-22T21:10:06.355Z   \n",
       "2789  2018-01-21T21:24:40.996Z  2018-01-21T21:24:40.996Z   \n",
       "2790  2018-01-20T21:07:19.716Z  2018-01-20T21:07:19.716Z   \n",
       "2791  2018-01-20T18:15:38.871Z  2018-01-20T18:15:38.871Z   \n",
       "2792  2018-01-20T15:32:53.260Z  2018-01-20T15:34:48.062Z   \n",
       "\n",
       "                 reviewer_name                             review_id  \\\n",
       "2788  Reinaldo Soares da Silva   ChZDSUhNMG9nS0VJQ0FnSURBbGYtM0pBEAE   \n",
       "2789                 Fael Faul  ChdDSUhNMG9nS0VJQ0FnSUNRLTU3UjNnRRAB   \n",
       "2790            Eliana Azevedo  ChdDSUhNMG9nS0VJQ0FnSUNnNnR5RnNnRRAB   \n",
       "2791             Silvia Aquino   ChZDSUhNMG9nS0VJQ0FnSURBbHNEdUt3EAE   \n",
       "2792    Marcelo o empreendedor  ChdDSUhNMG9nS0VJQ0FnSUNZaUtiLW1BRRAB   \n",
       "\n",
       "                                        before_original after_original  \n",
       "2788                                                nan           None  \n",
       "2789               (Translated by Google) Too good\\n\\n(       Original  \n",
       "2790                                                nan           None  \n",
       "2791                                                nan           None  \n",
       "2792  (Translated by Google) The group played paintb...       Original  "
      ]
     },
     "execution_count": 11,
     "metadata": {},
     "output_type": "execute_result"
    }
   ],
   "source": [
    "f.tail()"
   ]
  },
  {
   "cell_type": "code",
   "execution_count": 12,
   "id": "9a2ecbeb",
   "metadata": {},
   "outputs": [],
   "source": [
    "import pandas as pd\n",
    "\n",
    "# Assuming you have a DataFrame named 'f' with a column named 'comment'\n",
    "# Replace the sample data with your actual DataFrame\n",
    "\n",
    "# Function to clean the text\n",
    "def clean_text(text):\n",
    "    if pd.notna(text):  # Check for NaN values\n",
    "        # Remove \"(Translated by Google)\"\n",
    "        text = text.replace('(Translated by Google)', '')\n",
    "\n",
    "        # Remove \"\\n\\n(Original)\\n\"\n",
    "        text = text.replace('\\n\\n(Original)\\n', '')\n",
    "        \n",
    "        # Remove \"\\n\\n(Original)\\n\"\n",
    "        text = text.replace('\\n\\n', '')\n",
    "        \n",
    "        # Remove \"\\n\\n(Original)\\n\"\n",
    "        text = text.replace('(', '')\n",
    "\n",
    "        # Remove \"\\\" \n",
    "        text = text.replace('\\\\', '')\n",
    "\n",
    "        return text.strip()  # Remove leading and trailing whitespaces\n",
    "    else:\n",
    "        return text  # Return NaN if the input is NaN\n",
    "\n",
    "# Apply the cleaning function to each row in the 'comment' column\n",
    "f['cleaned_text'] = f['before_original'].apply(clean_text)\n",
    "\n"
   ]
  },
  {
   "cell_type": "code",
   "execution_count": 13,
   "id": "2a230c92",
   "metadata": {},
   "outputs": [
    {
     "data": {
      "text/html": [
       "<div>\n",
       "<style scoped>\n",
       "    .dataframe tbody tr th:only-of-type {\n",
       "        vertical-align: middle;\n",
       "    }\n",
       "\n",
       "    .dataframe tbody tr th {\n",
       "        vertical-align: top;\n",
       "    }\n",
       "\n",
       "    .dataframe thead th {\n",
       "        text-align: right;\n",
       "    }\n",
       "</style>\n",
       "<table border=\"1\" class=\"dataframe\">\n",
       "  <thead>\n",
       "    <tr style=\"text-align: right;\">\n",
       "      <th></th>\n",
       "      <th>displayName</th>\n",
       "      <th>starRating</th>\n",
       "      <th>comment</th>\n",
       "      <th>createTime</th>\n",
       "      <th>updateTime</th>\n",
       "      <th>reviewer_name</th>\n",
       "      <th>review_id</th>\n",
       "      <th>before_original</th>\n",
       "      <th>after_original</th>\n",
       "      <th>cleaned_text</th>\n",
       "    </tr>\n",
       "  </thead>\n",
       "  <tbody>\n",
       "    <tr>\n",
       "      <th>0</th>\n",
       "      <td>Cássio Trajano</td>\n",
       "      <td>5</td>\n",
       "      <td>(Translated by Google) I'm there every beginni...</td>\n",
       "      <td>2019-01-29T16:49:28.556676Z</td>\n",
       "      <td>2019-01-29T16:49:28.556676Z</td>\n",
       "      <td>Cássio Trajano</td>\n",
       "      <td>ChdDSUhNMG9nS0VJQ0FnSURJdjktNTN3RRAB</td>\n",
       "      <td>(Translated by Google) I'm there every beginni...</td>\n",
       "      <td>Original</td>\n",
       "      <td>I'm there every beginning of the year I highly...</td>\n",
       "    </tr>\n",
       "    <tr>\n",
       "      <th>1</th>\n",
       "      <td>Danielle cristine faria de oliveira</td>\n",
       "      <td>5</td>\n",
       "      <td>(Translated by Google) Very beautiful and plea...</td>\n",
       "      <td>2019-01-28T14:40:59.180127Z</td>\n",
       "      <td>2019-01-28T14:40:59.180127Z</td>\n",
       "      <td>Danielle cristine faria de oliveira</td>\n",
       "      <td>ChdDSUhNMG9nS0VJQ0FnSURJbjdMczlRRRAB</td>\n",
       "      <td>(Translated by Google) Very beautiful and plea...</td>\n",
       "      <td>Original</td>\n",
       "      <td>Very beautiful and pleasant place. Breakfast a...</td>\n",
       "    </tr>\n",
       "    <tr>\n",
       "      <th>2</th>\n",
       "      <td>Arthursousa Vieira</td>\n",
       "      <td>5</td>\n",
       "      <td>(Translated by Google) One of the best canping...</td>\n",
       "      <td>2019-01-28T02:05:47.566036Z</td>\n",
       "      <td>2019-01-28T02:05:47.566036Z</td>\n",
       "      <td>Arthursousa Vieira</td>\n",
       "      <td>ChZDSUhNMG9nS0VJQ0FnSURJcjYtZGFREAE</td>\n",
       "      <td>(Translated by Google) One of the best canping...</td>\n",
       "      <td>Original</td>\n",
       "      <td>One of the best canpings in the region</td>\n",
       "    </tr>\n",
       "    <tr>\n",
       "      <th>3</th>\n",
       "      <td>EVANDERSON ALEXANDRE</td>\n",
       "      <td>5</td>\n",
       "      <td>(Translated by Google) Family place but I foun...</td>\n",
       "      <td>2019-01-28T00:56:38.167475Z</td>\n",
       "      <td>2019-01-28T00:56:38.167475Z</td>\n",
       "      <td>EVANDERSON ALEXANDRE</td>\n",
       "      <td>ChZDSUhNMG9nS0VJQ0FnSURJcjl2eVBnEAE</td>\n",
       "      <td>(Translated by Google) Family place but I foun...</td>\n",
       "      <td>Original</td>\n",
       "      <td>Family place but I found things on site expens...</td>\n",
       "    </tr>\n",
       "    <tr>\n",
       "      <th>4</th>\n",
       "      <td>Richard Xavier</td>\n",
       "      <td>5</td>\n",
       "      <td>(Translated by Google) Great place! Affordable...</td>\n",
       "      <td>2019-01-27T20:42:17.239839Z</td>\n",
       "      <td>2019-01-27T20:43:28.501122Z</td>\n",
       "      <td>Richard Xavier</td>\n",
       "      <td>ChdDSUhNMG9nS0VJQ0FnSURJcl9iMDV3RRAB</td>\n",
       "      <td>(Translated by Google) Great place! Affordable...</td>\n",
       "      <td>Original</td>\n",
       "      <td>Great place! Affordable price and that's where...</td>\n",
       "    </tr>\n",
       "  </tbody>\n",
       "</table>\n",
       "</div>"
      ],
      "text/plain": [
       "                           displayName  starRating  \\\n",
       "0                       Cássio Trajano           5   \n",
       "1  Danielle cristine faria de oliveira           5   \n",
       "2                   Arthursousa Vieira           5   \n",
       "3                 EVANDERSON ALEXANDRE           5   \n",
       "4                       Richard Xavier           5   \n",
       "\n",
       "                                             comment  \\\n",
       "0  (Translated by Google) I'm there every beginni...   \n",
       "1  (Translated by Google) Very beautiful and plea...   \n",
       "2  (Translated by Google) One of the best canping...   \n",
       "3  (Translated by Google) Family place but I foun...   \n",
       "4  (Translated by Google) Great place! Affordable...   \n",
       "\n",
       "                    createTime                   updateTime  \\\n",
       "0  2019-01-29T16:49:28.556676Z  2019-01-29T16:49:28.556676Z   \n",
       "1  2019-01-28T14:40:59.180127Z  2019-01-28T14:40:59.180127Z   \n",
       "2  2019-01-28T02:05:47.566036Z  2019-01-28T02:05:47.566036Z   \n",
       "3  2019-01-28T00:56:38.167475Z  2019-01-28T00:56:38.167475Z   \n",
       "4  2019-01-27T20:42:17.239839Z  2019-01-27T20:43:28.501122Z   \n",
       "\n",
       "                         reviewer_name                             review_id  \\\n",
       "0                       Cássio Trajano  ChdDSUhNMG9nS0VJQ0FnSURJdjktNTN3RRAB   \n",
       "1  Danielle cristine faria de oliveira  ChdDSUhNMG9nS0VJQ0FnSURJbjdMczlRRRAB   \n",
       "2                   Arthursousa Vieira   ChZDSUhNMG9nS0VJQ0FnSURJcjYtZGFREAE   \n",
       "3                 EVANDERSON ALEXANDRE   ChZDSUhNMG9nS0VJQ0FnSURJcjl2eVBnEAE   \n",
       "4                       Richard Xavier  ChdDSUhNMG9nS0VJQ0FnSURJcl9iMDV3RRAB   \n",
       "\n",
       "                                     before_original after_original  \\\n",
       "0  (Translated by Google) I'm there every beginni...       Original   \n",
       "1  (Translated by Google) Very beautiful and plea...       Original   \n",
       "2  (Translated by Google) One of the best canping...       Original   \n",
       "3  (Translated by Google) Family place but I foun...       Original   \n",
       "4  (Translated by Google) Great place! Affordable...       Original   \n",
       "\n",
       "                                        cleaned_text  \n",
       "0  I'm there every beginning of the year I highly...  \n",
       "1  Very beautiful and pleasant place. Breakfast a...  \n",
       "2             One of the best canpings in the region  \n",
       "3  Family place but I found things on site expens...  \n",
       "4  Great place! Affordable price and that's where...  "
      ]
     },
     "execution_count": 13,
     "metadata": {},
     "output_type": "execute_result"
    }
   ],
   "source": [
    "f.head()"
   ]
  },
  {
   "cell_type": "code",
   "execution_count": 14,
   "id": "7b410617",
   "metadata": {},
   "outputs": [
    {
     "data": {
      "text/plain": [
       "'Very beautiful and pleasant place. Breakfast and lunch have a lot of variety and are delicious.'"
      ]
     },
     "execution_count": 14,
     "metadata": {},
     "output_type": "execute_result"
    }
   ],
   "source": [
    "f[\"cleaned_text\"].iloc[1]"
   ]
  },
  {
   "cell_type": "code",
   "execution_count": 15,
   "id": "7b63e150",
   "metadata": {},
   "outputs": [
    {
     "name": "stdout",
     "output_type": "stream",
     "text": [
      "<class 'pandas.core.frame.DataFrame'>\n",
      "RangeIndex: 2793 entries, 0 to 2792\n",
      "Data columns (total 10 columns):\n",
      " #   Column           Non-Null Count  Dtype \n",
      "---  ------           --------------  ----- \n",
      " 0   displayName      2793 non-null   object\n",
      " 1   starRating       2793 non-null   int64 \n",
      " 2   comment          2793 non-null   object\n",
      " 3   createTime       2793 non-null   object\n",
      " 4   updateTime       2793 non-null   object\n",
      " 5   reviewer_name    2793 non-null   object\n",
      " 6   review_id        2793 non-null   object\n",
      " 7   before_original  2793 non-null   object\n",
      " 8   after_original   1613 non-null   object\n",
      " 9   cleaned_text     2793 non-null   object\n",
      "dtypes: int64(1), object(9)\n",
      "memory usage: 218.3+ KB\n"
     ]
    }
   ],
   "source": [
    "f.info()"
   ]
  },
  {
   "cell_type": "code",
   "execution_count": 16,
   "id": "d8907970",
   "metadata": {},
   "outputs": [
    {
     "name": "stdout",
     "output_type": "stream",
     "text": [
      "Sentiment: 0.4301541314931242\n"
     ]
    }
   ],
   "source": [
    "from textblob import TextBlob\n",
    "\n",
    "# Assuming you have a DataFrame df with a column named 'cleaned_text'\n",
    "mixed_language_text = f[\"cleaned_text\"].str.cat(sep=' ')\n",
    "\n",
    "blob = TextBlob(mixed_language_text)\n",
    "sentiment = blob.sentiment\n",
    "\n",
    "print(f\"Sentiment: {sentiment.polarity}\")\n"
   ]
  },
  {
   "cell_type": "code",
   "execution_count": 17,
   "id": "4acdf010",
   "metadata": {},
   "outputs": [],
   "source": [
    "# Function to perform sentiment analysis\n",
    "def analyze_sentiment(text):\n",
    "    blob = TextBlob(text)\n",
    "    sentiment = blob.sentiment\n",
    "    return sentiment.polarity\n",
    "\n",
    "# Add a new column 'Sentiment_Score' to the DataFrame\n",
    "f['Sentiment_Score'] = f[\"cleaned_text\"].apply(analyze_sentiment)"
   ]
  },
  {
   "cell_type": "code",
   "execution_count": 18,
   "id": "279c2578",
   "metadata": {},
   "outputs": [
    {
     "data": {
      "text/html": [
       "<div>\n",
       "<style scoped>\n",
       "    .dataframe tbody tr th:only-of-type {\n",
       "        vertical-align: middle;\n",
       "    }\n",
       "\n",
       "    .dataframe tbody tr th {\n",
       "        vertical-align: top;\n",
       "    }\n",
       "\n",
       "    .dataframe thead th {\n",
       "        text-align: right;\n",
       "    }\n",
       "</style>\n",
       "<table border=\"1\" class=\"dataframe\">\n",
       "  <thead>\n",
       "    <tr style=\"text-align: right;\">\n",
       "      <th></th>\n",
       "      <th>displayName</th>\n",
       "      <th>starRating</th>\n",
       "      <th>comment</th>\n",
       "      <th>createTime</th>\n",
       "      <th>updateTime</th>\n",
       "      <th>reviewer_name</th>\n",
       "      <th>review_id</th>\n",
       "      <th>before_original</th>\n",
       "      <th>after_original</th>\n",
       "      <th>cleaned_text</th>\n",
       "      <th>Sentiment_Score</th>\n",
       "    </tr>\n",
       "  </thead>\n",
       "  <tbody>\n",
       "    <tr>\n",
       "      <th>2788</th>\n",
       "      <td>Reinaldo Soares da Silva</td>\n",
       "      <td>5</td>\n",
       "      <td>nan</td>\n",
       "      <td>2018-01-22T21:10:06.355Z</td>\n",
       "      <td>2018-01-22T21:10:06.355Z</td>\n",
       "      <td>Reinaldo Soares da Silva</td>\n",
       "      <td>ChZDSUhNMG9nS0VJQ0FnSURBbGYtM0pBEAE</td>\n",
       "      <td>nan</td>\n",
       "      <td>None</td>\n",
       "      <td>nan</td>\n",
       "      <td>0.0</td>\n",
       "    </tr>\n",
       "    <tr>\n",
       "      <th>2789</th>\n",
       "      <td>Fael Faul</td>\n",
       "      <td>5</td>\n",
       "      <td>(Translated by Google) Too good\\n\\n(Original)\\...</td>\n",
       "      <td>2018-01-21T21:24:40.996Z</td>\n",
       "      <td>2018-01-21T21:24:40.996Z</td>\n",
       "      <td>Fael Faul</td>\n",
       "      <td>ChdDSUhNMG9nS0VJQ0FnSUNRLTU3UjNnRRAB</td>\n",
       "      <td>(Translated by Google) Too good\\n\\n(</td>\n",
       "      <td>Original</td>\n",
       "      <td>Too good</td>\n",
       "      <td>0.7</td>\n",
       "    </tr>\n",
       "    <tr>\n",
       "      <th>2790</th>\n",
       "      <td>Eliana Azevedo</td>\n",
       "      <td>5</td>\n",
       "      <td>nan</td>\n",
       "      <td>2018-01-20T21:07:19.716Z</td>\n",
       "      <td>2018-01-20T21:07:19.716Z</td>\n",
       "      <td>Eliana Azevedo</td>\n",
       "      <td>ChdDSUhNMG9nS0VJQ0FnSUNnNnR5RnNnRRAB</td>\n",
       "      <td>nan</td>\n",
       "      <td>None</td>\n",
       "      <td>nan</td>\n",
       "      <td>0.0</td>\n",
       "    </tr>\n",
       "    <tr>\n",
       "      <th>2791</th>\n",
       "      <td>Silvia Aquino</td>\n",
       "      <td>5</td>\n",
       "      <td>nan</td>\n",
       "      <td>2018-01-20T18:15:38.871Z</td>\n",
       "      <td>2018-01-20T18:15:38.871Z</td>\n",
       "      <td>Silvia Aquino</td>\n",
       "      <td>ChZDSUhNMG9nS0VJQ0FnSURBbHNEdUt3EAE</td>\n",
       "      <td>nan</td>\n",
       "      <td>None</td>\n",
       "      <td>nan</td>\n",
       "      <td>0.0</td>\n",
       "    </tr>\n",
       "    <tr>\n",
       "      <th>2792</th>\n",
       "      <td>Marcelo o empreendedor</td>\n",
       "      <td>5</td>\n",
       "      <td>(Translated by Google) The group played paintb...</td>\n",
       "      <td>2018-01-20T15:32:53.260Z</td>\n",
       "      <td>2018-01-20T15:34:48.062Z</td>\n",
       "      <td>Marcelo o empreendedor</td>\n",
       "      <td>ChdDSUhNMG9nS0VJQ0FnSUNZaUtiLW1BRRAB</td>\n",
       "      <td>(Translated by Google) The group played paintb...</td>\n",
       "      <td>Original</td>\n",
       "      <td>The group played paintball, a lot of fun.</td>\n",
       "      <td>0.3</td>\n",
       "    </tr>\n",
       "  </tbody>\n",
       "</table>\n",
       "</div>"
      ],
      "text/plain": [
       "                   displayName  starRating  \\\n",
       "2788  Reinaldo Soares da Silva           5   \n",
       "2789                 Fael Faul           5   \n",
       "2790            Eliana Azevedo           5   \n",
       "2791             Silvia Aquino           5   \n",
       "2792    Marcelo o empreendedor           5   \n",
       "\n",
       "                                                comment  \\\n",
       "2788                                                nan   \n",
       "2789  (Translated by Google) Too good\\n\\n(Original)\\...   \n",
       "2790                                                nan   \n",
       "2791                                                nan   \n",
       "2792  (Translated by Google) The group played paintb...   \n",
       "\n",
       "                    createTime                updateTime  \\\n",
       "2788  2018-01-22T21:10:06.355Z  2018-01-22T21:10:06.355Z   \n",
       "2789  2018-01-21T21:24:40.996Z  2018-01-21T21:24:40.996Z   \n",
       "2790  2018-01-20T21:07:19.716Z  2018-01-20T21:07:19.716Z   \n",
       "2791  2018-01-20T18:15:38.871Z  2018-01-20T18:15:38.871Z   \n",
       "2792  2018-01-20T15:32:53.260Z  2018-01-20T15:34:48.062Z   \n",
       "\n",
       "                 reviewer_name                             review_id  \\\n",
       "2788  Reinaldo Soares da Silva   ChZDSUhNMG9nS0VJQ0FnSURBbGYtM0pBEAE   \n",
       "2789                 Fael Faul  ChdDSUhNMG9nS0VJQ0FnSUNRLTU3UjNnRRAB   \n",
       "2790            Eliana Azevedo  ChdDSUhNMG9nS0VJQ0FnSUNnNnR5RnNnRRAB   \n",
       "2791             Silvia Aquino   ChZDSUhNMG9nS0VJQ0FnSURBbHNEdUt3EAE   \n",
       "2792    Marcelo o empreendedor  ChdDSUhNMG9nS0VJQ0FnSUNZaUtiLW1BRRAB   \n",
       "\n",
       "                                        before_original after_original  \\\n",
       "2788                                                nan           None   \n",
       "2789               (Translated by Google) Too good\\n\\n(       Original   \n",
       "2790                                                nan           None   \n",
       "2791                                                nan           None   \n",
       "2792  (Translated by Google) The group played paintb...       Original   \n",
       "\n",
       "                                   cleaned_text  Sentiment_Score  \n",
       "2788                                        nan              0.0  \n",
       "2789                                   Too good              0.7  \n",
       "2790                                        nan              0.0  \n",
       "2791                                        nan              0.0  \n",
       "2792  The group played paintball, a lot of fun.              0.3  "
      ]
     },
     "execution_count": 18,
     "metadata": {},
     "output_type": "execute_result"
    }
   ],
   "source": [
    "f.tail()"
   ]
  },
  {
   "cell_type": "code",
   "execution_count": null,
   "id": "fb4379b2",
   "metadata": {},
   "outputs": [],
   "source": []
  },
  {
   "cell_type": "code",
   "execution_count": 19,
   "id": "3348a68b",
   "metadata": {},
   "outputs": [
    {
     "data": {
      "text/html": [
       "<div>\n",
       "<style scoped>\n",
       "    .dataframe tbody tr th:only-of-type {\n",
       "        vertical-align: middle;\n",
       "    }\n",
       "\n",
       "    .dataframe tbody tr th {\n",
       "        vertical-align: top;\n",
       "    }\n",
       "\n",
       "    .dataframe thead th {\n",
       "        text-align: right;\n",
       "    }\n",
       "</style>\n",
       "<table border=\"1\" class=\"dataframe\">\n",
       "  <thead>\n",
       "    <tr style=\"text-align: right;\">\n",
       "      <th></th>\n",
       "      <th>displayName</th>\n",
       "      <th>starRating</th>\n",
       "      <th>comment</th>\n",
       "      <th>createTime</th>\n",
       "      <th>updateTime</th>\n",
       "      <th>reviewer_name</th>\n",
       "      <th>review_id</th>\n",
       "      <th>before_original</th>\n",
       "      <th>after_original</th>\n",
       "      <th>cleaned_text</th>\n",
       "      <th>Sentiment_Score</th>\n",
       "    </tr>\n",
       "  </thead>\n",
       "  <tbody>\n",
       "    <tr>\n",
       "      <th>0</th>\n",
       "      <td>Cássio Trajano</td>\n",
       "      <td>5</td>\n",
       "      <td>(Translated by Google) I'm there every beginni...</td>\n",
       "      <td>2019-01-29T16:49:28.556676Z</td>\n",
       "      <td>2019-01-29T16:49:28.556676Z</td>\n",
       "      <td>Cássio Trajano</td>\n",
       "      <td>ChdDSUhNMG9nS0VJQ0FnSURJdjktNTN3RRAB</td>\n",
       "      <td>(Translated by Google) I'm there every beginni...</td>\n",
       "      <td>Original</td>\n",
       "      <td>I'm there every beginning of the year I highly...</td>\n",
       "      <td>0.030000</td>\n",
       "    </tr>\n",
       "    <tr>\n",
       "      <th>1</th>\n",
       "      <td>Danielle cristine faria de oliveira</td>\n",
       "      <td>5</td>\n",
       "      <td>(Translated by Google) Very beautiful and plea...</td>\n",
       "      <td>2019-01-28T14:40:59.180127Z</td>\n",
       "      <td>2019-01-28T14:40:59.180127Z</td>\n",
       "      <td>Danielle cristine faria de oliveira</td>\n",
       "      <td>ChdDSUhNMG9nS0VJQ0FnSURJbjdMczlRRRAB</td>\n",
       "      <td>(Translated by Google) Very beautiful and plea...</td>\n",
       "      <td>Original</td>\n",
       "      <td>Very beautiful and pleasant place. Breakfast a...</td>\n",
       "      <td>0.911111</td>\n",
       "    </tr>\n",
       "  </tbody>\n",
       "</table>\n",
       "</div>"
      ],
      "text/plain": [
       "                           displayName  starRating  \\\n",
       "0                       Cássio Trajano           5   \n",
       "1  Danielle cristine faria de oliveira           5   \n",
       "\n",
       "                                             comment  \\\n",
       "0  (Translated by Google) I'm there every beginni...   \n",
       "1  (Translated by Google) Very beautiful and plea...   \n",
       "\n",
       "                    createTime                   updateTime  \\\n",
       "0  2019-01-29T16:49:28.556676Z  2019-01-29T16:49:28.556676Z   \n",
       "1  2019-01-28T14:40:59.180127Z  2019-01-28T14:40:59.180127Z   \n",
       "\n",
       "                         reviewer_name                             review_id  \\\n",
       "0                       Cássio Trajano  ChdDSUhNMG9nS0VJQ0FnSURJdjktNTN3RRAB   \n",
       "1  Danielle cristine faria de oliveira  ChdDSUhNMG9nS0VJQ0FnSURJbjdMczlRRRAB   \n",
       "\n",
       "                                     before_original after_original  \\\n",
       "0  (Translated by Google) I'm there every beginni...       Original   \n",
       "1  (Translated by Google) Very beautiful and plea...       Original   \n",
       "\n",
       "                                        cleaned_text  Sentiment_Score  \n",
       "0  I'm there every beginning of the year I highly...         0.030000  \n",
       "1  Very beautiful and pleasant place. Breakfast a...         0.911111  "
      ]
     },
     "execution_count": 19,
     "metadata": {},
     "output_type": "execute_result"
    }
   ],
   "source": [
    "# Assuming you have a DataFrame df\n",
    "f.dropna(subset=['cleaned_text'], inplace=True)\n",
    "\n",
    "# Display the DataFrame after dropping rows with missing values in 'cleaned_text'\n",
    "f.head(2)"
   ]
  },
  {
   "cell_type": "code",
   "execution_count": 20,
   "id": "3ab76e54",
   "metadata": {},
   "outputs": [],
   "source": [
    "import numpy as np\n",
    "\n",
    "# Replace 'nan' with numpy.nan\n",
    "f.replace('nan', np.nan, inplace=True)\n",
    "\n",
    "# Now you can drop rows with NaN values\n",
    "f.dropna(subset=['cleaned_text'], inplace=True)\n",
    "\n"
   ]
  },
  {
   "cell_type": "code",
   "execution_count": 21,
   "id": "40561493",
   "metadata": {},
   "outputs": [
    {
     "data": {
      "text/html": [
       "<div>\n",
       "<style scoped>\n",
       "    .dataframe tbody tr th:only-of-type {\n",
       "        vertical-align: middle;\n",
       "    }\n",
       "\n",
       "    .dataframe tbody tr th {\n",
       "        vertical-align: top;\n",
       "    }\n",
       "\n",
       "    .dataframe thead th {\n",
       "        text-align: right;\n",
       "    }\n",
       "</style>\n",
       "<table border=\"1\" class=\"dataframe\">\n",
       "  <thead>\n",
       "    <tr style=\"text-align: right;\">\n",
       "      <th></th>\n",
       "      <th>displayName</th>\n",
       "      <th>starRating</th>\n",
       "      <th>comment</th>\n",
       "      <th>createTime</th>\n",
       "      <th>updateTime</th>\n",
       "      <th>reviewer_name</th>\n",
       "      <th>review_id</th>\n",
       "      <th>before_original</th>\n",
       "      <th>after_original</th>\n",
       "      <th>cleaned_text</th>\n",
       "      <th>Sentiment_Score</th>\n",
       "    </tr>\n",
       "  </thead>\n",
       "  <tbody>\n",
       "    <tr>\n",
       "      <th>0</th>\n",
       "      <td>Cássio Trajano</td>\n",
       "      <td>5</td>\n",
       "      <td>(Translated by Google) I'm there every beginni...</td>\n",
       "      <td>2019-01-29T16:49:28.556676Z</td>\n",
       "      <td>2019-01-29T16:49:28.556676Z</td>\n",
       "      <td>Cássio Trajano</td>\n",
       "      <td>ChdDSUhNMG9nS0VJQ0FnSURJdjktNTN3RRAB</td>\n",
       "      <td>(Translated by Google) I'm there every beginni...</td>\n",
       "      <td>Original</td>\n",
       "      <td>I'm there every beginning of the year I highly...</td>\n",
       "      <td>0.030000</td>\n",
       "    </tr>\n",
       "    <tr>\n",
       "      <th>1</th>\n",
       "      <td>Danielle cristine faria de oliveira</td>\n",
       "      <td>5</td>\n",
       "      <td>(Translated by Google) Very beautiful and plea...</td>\n",
       "      <td>2019-01-28T14:40:59.180127Z</td>\n",
       "      <td>2019-01-28T14:40:59.180127Z</td>\n",
       "      <td>Danielle cristine faria de oliveira</td>\n",
       "      <td>ChdDSUhNMG9nS0VJQ0FnSURJbjdMczlRRRAB</td>\n",
       "      <td>(Translated by Google) Very beautiful and plea...</td>\n",
       "      <td>Original</td>\n",
       "      <td>Very beautiful and pleasant place. Breakfast a...</td>\n",
       "      <td>0.911111</td>\n",
       "    </tr>\n",
       "  </tbody>\n",
       "</table>\n",
       "</div>"
      ],
      "text/plain": [
       "                           displayName  starRating  \\\n",
       "0                       Cássio Trajano           5   \n",
       "1  Danielle cristine faria de oliveira           5   \n",
       "\n",
       "                                             comment  \\\n",
       "0  (Translated by Google) I'm there every beginni...   \n",
       "1  (Translated by Google) Very beautiful and plea...   \n",
       "\n",
       "                    createTime                   updateTime  \\\n",
       "0  2019-01-29T16:49:28.556676Z  2019-01-29T16:49:28.556676Z   \n",
       "1  2019-01-28T14:40:59.180127Z  2019-01-28T14:40:59.180127Z   \n",
       "\n",
       "                         reviewer_name                             review_id  \\\n",
       "0                       Cássio Trajano  ChdDSUhNMG9nS0VJQ0FnSURJdjktNTN3RRAB   \n",
       "1  Danielle cristine faria de oliveira  ChdDSUhNMG9nS0VJQ0FnSURJbjdMczlRRRAB   \n",
       "\n",
       "                                     before_original after_original  \\\n",
       "0  (Translated by Google) I'm there every beginni...       Original   \n",
       "1  (Translated by Google) Very beautiful and plea...       Original   \n",
       "\n",
       "                                        cleaned_text  Sentiment_Score  \n",
       "0  I'm there every beginning of the year I highly...         0.030000  \n",
       "1  Very beautiful and pleasant place. Breakfast a...         0.911111  "
      ]
     },
     "execution_count": 21,
     "metadata": {},
     "output_type": "execute_result"
    }
   ],
   "source": [
    "# Display the DataFrame\n",
    "f.head(2)\n"
   ]
  },
  {
   "cell_type": "code",
   "execution_count": 22,
   "id": "ad581a16",
   "metadata": {},
   "outputs": [
    {
     "name": "stdout",
     "output_type": "stream",
     "text": [
      "<class 'pandas.core.frame.DataFrame'>\n",
      "Index: 1648 entries, 0 to 2792\n",
      "Data columns (total 11 columns):\n",
      " #   Column           Non-Null Count  Dtype  \n",
      "---  ------           --------------  -----  \n",
      " 0   displayName      1648 non-null   object \n",
      " 1   starRating       1648 non-null   int64  \n",
      " 2   comment          1648 non-null   object \n",
      " 3   createTime       1648 non-null   object \n",
      " 4   updateTime       1648 non-null   object \n",
      " 5   reviewer_name    1648 non-null   object \n",
      " 6   review_id        1648 non-null   object \n",
      " 7   before_original  1648 non-null   object \n",
      " 8   after_original   1613 non-null   object \n",
      " 9   cleaned_text     1648 non-null   object \n",
      " 10  Sentiment_Score  1648 non-null   float64\n",
      "dtypes: float64(1), int64(1), object(9)\n",
      "memory usage: 154.5+ KB\n"
     ]
    }
   ],
   "source": [
    "f.info()"
   ]
  },
  {
   "cell_type": "code",
   "execution_count": 23,
   "id": "22abd26e",
   "metadata": {},
   "outputs": [
    {
     "data": {
      "text/html": [
       "<div>\n",
       "<style scoped>\n",
       "    .dataframe tbody tr th:only-of-type {\n",
       "        vertical-align: middle;\n",
       "    }\n",
       "\n",
       "    .dataframe tbody tr th {\n",
       "        vertical-align: top;\n",
       "    }\n",
       "\n",
       "    .dataframe thead th {\n",
       "        text-align: right;\n",
       "    }\n",
       "</style>\n",
       "<table border=\"1\" class=\"dataframe\">\n",
       "  <thead>\n",
       "    <tr style=\"text-align: right;\">\n",
       "      <th></th>\n",
       "      <th>displayName</th>\n",
       "      <th>starRating</th>\n",
       "      <th>comment</th>\n",
       "      <th>createTime</th>\n",
       "      <th>updateTime</th>\n",
       "      <th>reviewer_name</th>\n",
       "      <th>review_id</th>\n",
       "      <th>before_original</th>\n",
       "      <th>after_original</th>\n",
       "      <th>cleaned_text</th>\n",
       "      <th>Sentiment_Score</th>\n",
       "    </tr>\n",
       "  </thead>\n",
       "  <tbody>\n",
       "    <tr>\n",
       "      <th>2783</th>\n",
       "      <td>Paulo Veiga</td>\n",
       "      <td>5</td>\n",
       "      <td>(Translated by Google) Perfect infrastructure ...</td>\n",
       "      <td>2018-01-26T02:22:26.101Z</td>\n",
       "      <td>2018-01-26T02:23:37.650Z</td>\n",
       "      <td>Paulo Veiga</td>\n",
       "      <td>ChdDSUhNMG9nS0VJQ0FnSURRZ2RPQ2tBRRAB</td>\n",
       "      <td>(Translated by Google) Perfect infrastructure ...</td>\n",
       "      <td>Original</td>\n",
       "      <td>Perfect infrastructure for camping and accommo...</td>\n",
       "      <td>0.583333</td>\n",
       "    </tr>\n",
       "    <tr>\n",
       "      <th>2786</th>\n",
       "      <td>Cleyton Andrade</td>\n",
       "      <td>5</td>\n",
       "      <td>Top</td>\n",
       "      <td>2018-01-24T21:08:08.628Z</td>\n",
       "      <td>2018-01-24T21:08:08.628Z</td>\n",
       "      <td>Cleyton Andrade</td>\n",
       "      <td>ChZDSUhNMG9nS0VJQ0FnSURnMkxYZlVREAE</td>\n",
       "      <td>Top</td>\n",
       "      <td>None</td>\n",
       "      <td>Top</td>\n",
       "      <td>0.500000</td>\n",
       "    </tr>\n",
       "    <tr>\n",
       "      <th>2787</th>\n",
       "      <td>Ana Paula Talhari</td>\n",
       "      <td>5</td>\n",
       "      <td>(Translated by Google) Delightful place!\\n\\n(O...</td>\n",
       "      <td>2018-01-24T17:20:26.722Z</td>\n",
       "      <td>2018-01-24T17:21:35.770Z</td>\n",
       "      <td>Ana Paula Talhari</td>\n",
       "      <td>ChdDSUhNMG9nS0VJQ0FnSUNBeUxHZTl3RRAB</td>\n",
       "      <td>(Translated by Google) Delightful place!\\n\\n(</td>\n",
       "      <td>Original</td>\n",
       "      <td>Delightful place!</td>\n",
       "      <td>1.000000</td>\n",
       "    </tr>\n",
       "    <tr>\n",
       "      <th>2789</th>\n",
       "      <td>Fael Faul</td>\n",
       "      <td>5</td>\n",
       "      <td>(Translated by Google) Too good\\n\\n(Original)\\...</td>\n",
       "      <td>2018-01-21T21:24:40.996Z</td>\n",
       "      <td>2018-01-21T21:24:40.996Z</td>\n",
       "      <td>Fael Faul</td>\n",
       "      <td>ChdDSUhNMG9nS0VJQ0FnSUNRLTU3UjNnRRAB</td>\n",
       "      <td>(Translated by Google) Too good\\n\\n(</td>\n",
       "      <td>Original</td>\n",
       "      <td>Too good</td>\n",
       "      <td>0.700000</td>\n",
       "    </tr>\n",
       "    <tr>\n",
       "      <th>2792</th>\n",
       "      <td>Marcelo o empreendedor</td>\n",
       "      <td>5</td>\n",
       "      <td>(Translated by Google) The group played paintb...</td>\n",
       "      <td>2018-01-20T15:32:53.260Z</td>\n",
       "      <td>2018-01-20T15:34:48.062Z</td>\n",
       "      <td>Marcelo o empreendedor</td>\n",
       "      <td>ChdDSUhNMG9nS0VJQ0FnSUNZaUtiLW1BRRAB</td>\n",
       "      <td>(Translated by Google) The group played paintb...</td>\n",
       "      <td>Original</td>\n",
       "      <td>The group played paintball, a lot of fun.</td>\n",
       "      <td>0.300000</td>\n",
       "    </tr>\n",
       "  </tbody>\n",
       "</table>\n",
       "</div>"
      ],
      "text/plain": [
       "                 displayName  starRating  \\\n",
       "2783             Paulo Veiga           5   \n",
       "2786         Cleyton Andrade           5   \n",
       "2787       Ana Paula Talhari           5   \n",
       "2789               Fael Faul           5   \n",
       "2792  Marcelo o empreendedor           5   \n",
       "\n",
       "                                                comment  \\\n",
       "2783  (Translated by Google) Perfect infrastructure ...   \n",
       "2786                                                Top   \n",
       "2787  (Translated by Google) Delightful place!\\n\\n(O...   \n",
       "2789  (Translated by Google) Too good\\n\\n(Original)\\...   \n",
       "2792  (Translated by Google) The group played paintb...   \n",
       "\n",
       "                    createTime                updateTime  \\\n",
       "2783  2018-01-26T02:22:26.101Z  2018-01-26T02:23:37.650Z   \n",
       "2786  2018-01-24T21:08:08.628Z  2018-01-24T21:08:08.628Z   \n",
       "2787  2018-01-24T17:20:26.722Z  2018-01-24T17:21:35.770Z   \n",
       "2789  2018-01-21T21:24:40.996Z  2018-01-21T21:24:40.996Z   \n",
       "2792  2018-01-20T15:32:53.260Z  2018-01-20T15:34:48.062Z   \n",
       "\n",
       "               reviewer_name                             review_id  \\\n",
       "2783             Paulo Veiga  ChdDSUhNMG9nS0VJQ0FnSURRZ2RPQ2tBRRAB   \n",
       "2786         Cleyton Andrade   ChZDSUhNMG9nS0VJQ0FnSURnMkxYZlVREAE   \n",
       "2787       Ana Paula Talhari  ChdDSUhNMG9nS0VJQ0FnSUNBeUxHZTl3RRAB   \n",
       "2789               Fael Faul  ChdDSUhNMG9nS0VJQ0FnSUNRLTU3UjNnRRAB   \n",
       "2792  Marcelo o empreendedor  ChdDSUhNMG9nS0VJQ0FnSUNZaUtiLW1BRRAB   \n",
       "\n",
       "                                        before_original after_original  \\\n",
       "2783  (Translated by Google) Perfect infrastructure ...       Original   \n",
       "2786                                                Top           None   \n",
       "2787      (Translated by Google) Delightful place!\\n\\n(       Original   \n",
       "2789               (Translated by Google) Too good\\n\\n(       Original   \n",
       "2792  (Translated by Google) The group played paintb...       Original   \n",
       "\n",
       "                                           cleaned_text  Sentiment_Score  \n",
       "2783  Perfect infrastructure for camping and accommo...         0.583333  \n",
       "2786                                                Top         0.500000  \n",
       "2787                                  Delightful place!         1.000000  \n",
       "2789                                           Too good         0.700000  \n",
       "2792          The group played paintball, a lot of fun.         0.300000  "
      ]
     },
     "execution_count": 23,
     "metadata": {},
     "output_type": "execute_result"
    }
   ],
   "source": [
    "f.tail()"
   ]
  },
  {
   "cell_type": "code",
   "execution_count": 24,
   "id": "4231407c",
   "metadata": {},
   "outputs": [
    {
     "data": {
      "text/html": [
       "<div>\n",
       "<style scoped>\n",
       "    .dataframe tbody tr th:only-of-type {\n",
       "        vertical-align: middle;\n",
       "    }\n",
       "\n",
       "    .dataframe tbody tr th {\n",
       "        vertical-align: top;\n",
       "    }\n",
       "\n",
       "    .dataframe thead th {\n",
       "        text-align: right;\n",
       "    }\n",
       "</style>\n",
       "<table border=\"1\" class=\"dataframe\">\n",
       "  <thead>\n",
       "    <tr style=\"text-align: right;\">\n",
       "      <th></th>\n",
       "      <th>displayName</th>\n",
       "      <th>starRating</th>\n",
       "      <th>comment</th>\n",
       "      <th>createTime</th>\n",
       "      <th>updateTime</th>\n",
       "      <th>reviewer_name</th>\n",
       "      <th>review_id</th>\n",
       "      <th>before_original</th>\n",
       "      <th>after_original</th>\n",
       "      <th>cleaned_text</th>\n",
       "      <th>Sentiment_Score</th>\n",
       "      <th>first_name</th>\n",
       "    </tr>\n",
       "  </thead>\n",
       "  <tbody>\n",
       "    <tr>\n",
       "      <th>2783</th>\n",
       "      <td>Paulo Veiga</td>\n",
       "      <td>5</td>\n",
       "      <td>(Translated by Google) Perfect infrastructure ...</td>\n",
       "      <td>2018-01-26T02:22:26.101Z</td>\n",
       "      <td>2018-01-26T02:23:37.650Z</td>\n",
       "      <td>Paulo Veiga</td>\n",
       "      <td>ChdDSUhNMG9nS0VJQ0FnSURRZ2RPQ2tBRRAB</td>\n",
       "      <td>(Translated by Google) Perfect infrastructure ...</td>\n",
       "      <td>Original</td>\n",
       "      <td>Perfect infrastructure for camping and accommo...</td>\n",
       "      <td>0.583333</td>\n",
       "      <td>Paulo</td>\n",
       "    </tr>\n",
       "    <tr>\n",
       "      <th>2786</th>\n",
       "      <td>Cleyton Andrade</td>\n",
       "      <td>5</td>\n",
       "      <td>Top</td>\n",
       "      <td>2018-01-24T21:08:08.628Z</td>\n",
       "      <td>2018-01-24T21:08:08.628Z</td>\n",
       "      <td>Cleyton Andrade</td>\n",
       "      <td>ChZDSUhNMG9nS0VJQ0FnSURnMkxYZlVREAE</td>\n",
       "      <td>Top</td>\n",
       "      <td>None</td>\n",
       "      <td>Top</td>\n",
       "      <td>0.500000</td>\n",
       "      <td>Cleyton</td>\n",
       "    </tr>\n",
       "    <tr>\n",
       "      <th>2787</th>\n",
       "      <td>Ana Paula Talhari</td>\n",
       "      <td>5</td>\n",
       "      <td>(Translated by Google) Delightful place!\\n\\n(O...</td>\n",
       "      <td>2018-01-24T17:20:26.722Z</td>\n",
       "      <td>2018-01-24T17:21:35.770Z</td>\n",
       "      <td>Ana Paula Talhari</td>\n",
       "      <td>ChdDSUhNMG9nS0VJQ0FnSUNBeUxHZTl3RRAB</td>\n",
       "      <td>(Translated by Google) Delightful place!\\n\\n(</td>\n",
       "      <td>Original</td>\n",
       "      <td>Delightful place!</td>\n",
       "      <td>1.000000</td>\n",
       "      <td>Ana</td>\n",
       "    </tr>\n",
       "    <tr>\n",
       "      <th>2789</th>\n",
       "      <td>Fael Faul</td>\n",
       "      <td>5</td>\n",
       "      <td>(Translated by Google) Too good\\n\\n(Original)\\...</td>\n",
       "      <td>2018-01-21T21:24:40.996Z</td>\n",
       "      <td>2018-01-21T21:24:40.996Z</td>\n",
       "      <td>Fael Faul</td>\n",
       "      <td>ChdDSUhNMG9nS0VJQ0FnSUNRLTU3UjNnRRAB</td>\n",
       "      <td>(Translated by Google) Too good\\n\\n(</td>\n",
       "      <td>Original</td>\n",
       "      <td>Too good</td>\n",
       "      <td>0.700000</td>\n",
       "      <td>Fael</td>\n",
       "    </tr>\n",
       "    <tr>\n",
       "      <th>2792</th>\n",
       "      <td>Marcelo o empreendedor</td>\n",
       "      <td>5</td>\n",
       "      <td>(Translated by Google) The group played paintb...</td>\n",
       "      <td>2018-01-20T15:32:53.260Z</td>\n",
       "      <td>2018-01-20T15:34:48.062Z</td>\n",
       "      <td>Marcelo o empreendedor</td>\n",
       "      <td>ChdDSUhNMG9nS0VJQ0FnSUNZaUtiLW1BRRAB</td>\n",
       "      <td>(Translated by Google) The group played paintb...</td>\n",
       "      <td>Original</td>\n",
       "      <td>The group played paintball, a lot of fun.</td>\n",
       "      <td>0.300000</td>\n",
       "      <td>Marcelo</td>\n",
       "    </tr>\n",
       "  </tbody>\n",
       "</table>\n",
       "</div>"
      ],
      "text/plain": [
       "                 displayName  starRating  \\\n",
       "2783             Paulo Veiga           5   \n",
       "2786         Cleyton Andrade           5   \n",
       "2787       Ana Paula Talhari           5   \n",
       "2789               Fael Faul           5   \n",
       "2792  Marcelo o empreendedor           5   \n",
       "\n",
       "                                                comment  \\\n",
       "2783  (Translated by Google) Perfect infrastructure ...   \n",
       "2786                                                Top   \n",
       "2787  (Translated by Google) Delightful place!\\n\\n(O...   \n",
       "2789  (Translated by Google) Too good\\n\\n(Original)\\...   \n",
       "2792  (Translated by Google) The group played paintb...   \n",
       "\n",
       "                    createTime                updateTime  \\\n",
       "2783  2018-01-26T02:22:26.101Z  2018-01-26T02:23:37.650Z   \n",
       "2786  2018-01-24T21:08:08.628Z  2018-01-24T21:08:08.628Z   \n",
       "2787  2018-01-24T17:20:26.722Z  2018-01-24T17:21:35.770Z   \n",
       "2789  2018-01-21T21:24:40.996Z  2018-01-21T21:24:40.996Z   \n",
       "2792  2018-01-20T15:32:53.260Z  2018-01-20T15:34:48.062Z   \n",
       "\n",
       "               reviewer_name                             review_id  \\\n",
       "2783             Paulo Veiga  ChdDSUhNMG9nS0VJQ0FnSURRZ2RPQ2tBRRAB   \n",
       "2786         Cleyton Andrade   ChZDSUhNMG9nS0VJQ0FnSURnMkxYZlVREAE   \n",
       "2787       Ana Paula Talhari  ChdDSUhNMG9nS0VJQ0FnSUNBeUxHZTl3RRAB   \n",
       "2789               Fael Faul  ChdDSUhNMG9nS0VJQ0FnSUNRLTU3UjNnRRAB   \n",
       "2792  Marcelo o empreendedor  ChdDSUhNMG9nS0VJQ0FnSUNZaUtiLW1BRRAB   \n",
       "\n",
       "                                        before_original after_original  \\\n",
       "2783  (Translated by Google) Perfect infrastructure ...       Original   \n",
       "2786                                                Top           None   \n",
       "2787      (Translated by Google) Delightful place!\\n\\n(       Original   \n",
       "2789               (Translated by Google) Too good\\n\\n(       Original   \n",
       "2792  (Translated by Google) The group played paintb...       Original   \n",
       "\n",
       "                                           cleaned_text  Sentiment_Score  \\\n",
       "2783  Perfect infrastructure for camping and accommo...         0.583333   \n",
       "2786                                                Top         0.500000   \n",
       "2787                                  Delightful place!         1.000000   \n",
       "2789                                           Too good         0.700000   \n",
       "2792          The group played paintball, a lot of fun.         0.300000   \n",
       "\n",
       "     first_name  \n",
       "2783      Paulo  \n",
       "2786    Cleyton  \n",
       "2787        Ana  \n",
       "2789       Fael  \n",
       "2792    Marcelo  "
      ]
     },
     "execution_count": 24,
     "metadata": {},
     "output_type": "execute_result"
    }
   ],
   "source": [
    "# Assuming 'reviewer_name' is the column with full names in your DataFrame\n",
    "f['first_name'] = f[\"displayName\"].str.split().str[0]\n",
    "\n",
    "# Display the DataFrame\n",
    "f.tail()\n"
   ]
  },
  {
   "cell_type": "code",
   "execution_count": 25,
   "id": "13d5209a",
   "metadata": {},
   "outputs": [
    {
     "data": {
      "text/html": [
       "<div>\n",
       "<style scoped>\n",
       "    .dataframe tbody tr th:only-of-type {\n",
       "        vertical-align: middle;\n",
       "    }\n",
       "\n",
       "    .dataframe tbody tr th {\n",
       "        vertical-align: top;\n",
       "    }\n",
       "\n",
       "    .dataframe thead th {\n",
       "        text-align: right;\n",
       "    }\n",
       "</style>\n",
       "<table border=\"1\" class=\"dataframe\">\n",
       "  <thead>\n",
       "    <tr style=\"text-align: right;\">\n",
       "      <th></th>\n",
       "      <th>first_name</th>\n",
       "      <th>frequency</th>\n",
       "    </tr>\n",
       "  </thead>\n",
       "  <tbody>\n",
       "    <tr>\n",
       "      <th>0</th>\n",
       "      <td>Ana</td>\n",
       "      <td>23</td>\n",
       "    </tr>\n",
       "    <tr>\n",
       "      <th>1</th>\n",
       "      <td>Marcelo</td>\n",
       "      <td>17</td>\n",
       "    </tr>\n",
       "    <tr>\n",
       "      <th>2</th>\n",
       "      <td>Rodrigo</td>\n",
       "      <td>16</td>\n",
       "    </tr>\n",
       "    <tr>\n",
       "      <th>3</th>\n",
       "      <td>Marcos</td>\n",
       "      <td>15</td>\n",
       "    </tr>\n",
       "    <tr>\n",
       "      <th>4</th>\n",
       "      <td>Rafael</td>\n",
       "      <td>14</td>\n",
       "    </tr>\n",
       "  </tbody>\n",
       "</table>\n",
       "</div>"
      ],
      "text/plain": [
       "  first_name  frequency\n",
       "0        Ana         23\n",
       "1    Marcelo         17\n",
       "2    Rodrigo         16\n",
       "3     Marcos         15\n",
       "4     Rafael         14"
      ]
     },
     "execution_count": 25,
     "metadata": {},
     "output_type": "execute_result"
    }
   ],
   "source": [
    "# Assuming 'first_name' is the column with first names in your DataFrame\n",
    "name_counts = f['first_name'].value_counts()\n",
    "\n",
    "# Convert the name_counts Series to a DataFrame\n",
    "name_counts_df = name_counts.reset_index()\n",
    "\n",
    "# Rename the columns\n",
    "name_counts_df.columns = ['first_name', 'frequency']\n",
    "\n",
    "# Display the DataFrame\n",
    "name_counts_df.head(5)\n"
   ]
  },
  {
   "cell_type": "code",
   "execution_count": 26,
   "id": "acd90f09",
   "metadata": {},
   "outputs": [
    {
     "name": "stdout",
     "output_type": "stream",
     "text": [
      "<class 'pandas.core.frame.DataFrame'>\n",
      "RangeIndex: 930 entries, 0 to 929\n",
      "Data columns (total 2 columns):\n",
      " #   Column      Non-Null Count  Dtype \n",
      "---  ------      --------------  ----- \n",
      " 0   first_name  930 non-null    object\n",
      " 1   frequency   930 non-null    int64 \n",
      "dtypes: int64(1), object(1)\n",
      "memory usage: 14.7+ KB\n"
     ]
    }
   ],
   "source": [
    "name_counts_df.info()"
   ]
  },
  {
   "cell_type": "code",
   "execution_count": 27,
   "id": "c2c2379d",
   "metadata": {},
   "outputs": [],
   "source": [
    "# Assuming 'names' is the column with names in your DataFrame\n",
    "top_names = f[\"first_name\"].value_counts().index[:100]  # Replace N with the number of top names you want"
   ]
  },
  {
   "cell_type": "code",
   "execution_count": 28,
   "id": "844ca30f",
   "metadata": {},
   "outputs": [
    {
     "name": "stdout",
     "output_type": "stream",
     "text": [
      "Index(['Ana', 'Marcelo', 'Rodrigo', 'Marcos', 'Rafael', 'Paulo', 'Anderson',\n",
      "       'Fernando', 'Maria', 'Luiz', 'Fabio', 'Felipe', 'Eduardo', 'Fernanda',\n",
      "       'Patricia', 'Ricardo', 'José', 'Diego', 'Simone', 'Daniel', 'Guilherme',\n",
      "       'Vanessa', 'Marcio', 'Tiago', 'Sergio', 'Leandro', 'Alex', 'Lucas',\n",
      "       'Thiago', 'Sandra', 'Carlos', 'Danilo', 'Pedro', 'Daniela', 'Adriana',\n",
      "       'Juliana', 'Henrique', 'Luciano', 'Alexandre', 'Bruna', 'Jose',\n",
      "       'Renata', 'Matheus', 'João', 'Bruno', 'Elaine', 'Bianca', 'Cristiane',\n",
      "       'Gustavo', 'Eliana', 'Andre', 'Luciana', 'Mauricio', 'Jorge',\n",
      "       'Vinicius', 'Vitor', 'Roberto', 'Joao', 'Katia', 'Leticia', 'Aline',\n",
      "       'Gilberto', 'Paula', 'Angela', 'Lilian', 'Rogerio', 'Diogo', 'Alan',\n",
      "       'Michele', 'Reinaldo', 'Thais', 'Cristina', 'Jaqueline', 'Renato',\n",
      "       'Rose', 'Eliane', 'Douglas', 'Claudio', 'Erika', 'Amanda', 'Junior',\n",
      "       'Flavio', 'Fabiana', 'Leonardo', 'Adriano', 'Andreia', 'Antonio',\n",
      "       'Marcia', 'Francisco', 'Gabriel', 'Vera', 'Alexandra', 'Marta',\n",
      "       'Wellington', 'Ane', 'Edson', 'Arthur', 'Priscila', 'rosangela',\n",
      "       'Larissa'],\n",
      "      dtype='object', name='first_name')\n"
     ]
    }
   ],
   "source": [
    "print(top_names)"
   ]
  },
  {
   "cell_type": "code",
   "execution_count": 30,
   "id": "d3aa9d3b",
   "metadata": {},
   "outputs": [],
   "source": [
    "import gender_guesser.detector as gender\n",
    "\n",
    "# Assuming 'reviewer_name' is the column with names in your DataFrame\n",
    "f['gender'] = f['first_name'].apply(lambda x: gender.Detector().get_gender(x.split()[0]))\n",
    "\n",
    "# If you want to handle unknown genders as 'unknown'\n",
    "f['gender'] = f['gender'].apply(lambda x: x.lower() if x != 'unknown' else 'unknown')\n"
   ]
  },
  {
   "cell_type": "code",
   "execution_count": 31,
   "id": "5c7510d4",
   "metadata": {},
   "outputs": [
    {
     "data": {
      "text/plain": [
       "array(['unknown', 'female', 'male', 'andy', 'mostly_male',\n",
       "       'mostly_female'], dtype=object)"
      ]
     },
     "execution_count": 31,
     "metadata": {},
     "output_type": "execute_result"
    }
   ],
   "source": [
    "f[\"gender\"].unique()"
   ]
  },
  {
   "cell_type": "code",
   "execution_count": 32,
   "id": "a233362b",
   "metadata": {},
   "outputs": [
    {
     "data": {
      "image/png": "[encoded data removed]",
      "text/plain": [
       "<Figure size 640x480 with 1 Axes>"
      ]
     },
     "metadata": {},
     "output_type": "display_data"
    }
   ],
   "source": [
    "import matplotlib.pyplot as plt\n",
    "\n",
    "# Assuming you have a DataFrame 'f' with a column 'Sent_Sc_P'\n",
    "# Create a histogram of sentiment scores\n",
    "plt.hist(f['gender'], bins=20, edgecolor='black')\n",
    "plt.xlabel('Sentiment Score')\n",
    "plt.ylabel('Frequency')\n",
    "plt.title('Distribution of Sentiment Scores')\n",
    "plt.show()\n"
   ]
  },
  {
   "cell_type": "code",
   "execution_count": null,
   "id": "24e2394f",
   "metadata": {},
   "outputs": [],
   "source": [
    "import matplotlib.pyplot as plt\n",
    "\n",
    "# Assuming you have a DataFrame 'f' with a column 'Sent_Sc_P'\n",
    "# Create a histogram of sentiment scores\n",
    "plt.hist(f['Sentiment_Score'], bins=20, edgecolor='black')\n",
    "plt.xlabel('Sentiment Score')\n",
    "plt.ylabel('Frequency')\n",
    "plt.title('Distribution of Sentiment Scores')\n",
    "plt.show()\n"
   ]
  },
  {
   "cell_type": "code",
   "execution_count": null,
   "id": "edc8c1da",
   "metadata": {},
   "outputs": [],
   "source": [
    "ml = f[[\"starRating\", \"cleaned_text\", \"Sentiment_Score\"]]"
   ]
  },
  {
   "cell_type": "code",
   "execution_count": null,
   "id": "e0c79422",
   "metadata": {},
   "outputs": [],
   "source": [
    "ml.head()"
   ]
  },
  {
   "cell_type": "code",
   "execution_count": null,
   "id": "f29ee5ea",
   "metadata": {},
   "outputs": [],
   "source": [
    "ml.loc[:, \"word_count\"] = ml[\"cleaned_text\"].apply(lambda x: len(str(x).split(\" \")))"
   ]
  },
  {
   "cell_type": "code",
   "execution_count": null,
   "id": "e629651f",
   "metadata": {},
   "outputs": [],
   "source": [
    "ml.tail()"
   ]
  },
  {
   "cell_type": "code",
   "execution_count": null,
   "id": "07fdc734",
   "metadata": {},
   "outputs": [],
   "source": [
    "def avg_word(sentence):\n",
    "  words = sentence.split()\n",
    "  return (sum(len(word) for word in words)/len(words))\n",
    "\n",
    "ml.loc[:, \"avg_word\"] = ml[\"cleaned_text\"].apply(lambda x: avg_word(x))"
   ]
  },
  {
   "cell_type": "code",
   "execution_count": null,
   "id": "efa20a8f",
   "metadata": {},
   "outputs": [],
   "source": [
    "ml.tail()"
   ]
  },
  {
   "cell_type": "code",
   "execution_count": null,
   "id": "0e3e4ebb",
   "metadata": {},
   "outputs": [],
   "source": [
    "import nltk\n",
    "nltk.download('stopwords')"
   ]
  },
  {
   "cell_type": "code",
   "execution_count": null,
   "id": "5d806101",
   "metadata": {},
   "outputs": [],
   "source": [
    "from nltk.corpus import stopwords\n",
    "stop = stopwords.words('english')"
   ]
  },
  {
   "cell_type": "code",
   "execution_count": null,
   "id": "109885f5",
   "metadata": {},
   "outputs": [],
   "source": [
    "ml['stopwords'] = ml[\"cleaned_text\"].apply(lambda x: len([word for word in str(x).split() if word in stop]) if isinstance(x, str) else 0)\n"
   ]
  },
  {
   "cell_type": "code",
   "execution_count": null,
   "id": "c5c25f8a",
   "metadata": {},
   "outputs": [],
   "source": [
    "ml.tail()"
   ]
  },
  {
   "cell_type": "code",
   "execution_count": null,
   "id": "ad94c4c2",
   "metadata": {},
   "outputs": [],
   "source": [
    "import nltk\n",
    "from nltk.corpus import stopwords\n",
    "\n",
    "nltk.download('stopwords')  # Download the stopwords dataset\n",
    "\n",
    "stop = stopwords.words('english')  # Choose the language for stop words\n",
    "\n",
    "# Function to remove stop words\n",
    "def remove_stopwords(text):\n",
    "    words = [word for word in text.split() if word.lower() not in stop]\n",
    "    return ' '.join(words)\n",
    "\n",
    "# Apply the function to your DataFrame\n",
    "ml['no_stopwords'] = ml['cleaned_text'].apply(remove_stopwords)\n"
   ]
  },
  {
   "cell_type": "code",
   "execution_count": null,
   "id": "57a9885c",
   "metadata": {},
   "outputs": [],
   "source": [
    "ml.tail()"
   ]
  },
  {
   "cell_type": "code",
   "execution_count": null,
   "id": "7baeec35",
   "metadata": {},
   "outputs": [],
   "source": [
    "ml[\"lower\"] = ml[\"no_stopwords\"].str.lower()\n"
   ]
  },
  {
   "cell_type": "code",
   "execution_count": null,
   "id": "1fddb651",
   "metadata": {},
   "outputs": [],
   "source": [
    "ml.tail()"
   ]
  },
  {
   "cell_type": "code",
   "execution_count": null,
   "id": "739489ad",
   "metadata": {},
   "outputs": [],
   "source": [
    "import re\n",
    "\n",
    "# Assuming your DataFrame is named 'ml' with a column 'cleaned_text_lower'\n",
    "ml['no_punct'] = ml['lower'].str.replace(r'[^a-zA-Z0-9\\s]', '', regex=True)\n"
   ]
  },
  {
   "cell_type": "code",
   "execution_count": null,
   "id": "75bcb69a",
   "metadata": {},
   "outputs": [],
   "source": [
    "ml.tail(3)"
   ]
  },
  {
   "cell_type": "code",
   "execution_count": null,
   "id": "28e94dc5",
   "metadata": {},
   "outputs": [],
   "source": [
    "import emoji\n",
    "\n",
    "# Assuming 'no_punct' is the column with text containing emojis\n",
    "ml['no_emojis'] = ml['no_punct'].apply(lambda x: emoji.demojize(x))\n",
    "\n",
    "# Now 'no_emojis' column will contain text with emojis replaced by their names\n"
   ]
  },
  {
   "cell_type": "code",
   "execution_count": null,
   "id": "91af2415",
   "metadata": {},
   "outputs": [],
   "source": [
    "ml.tail(3)"
   ]
  },
  {
   "cell_type": "code",
   "execution_count": null,
   "id": "68f67bbd",
   "metadata": {},
   "outputs": [],
   "source": [
    "pip install --upgrade seaborn pandas\n"
   ]
  },
  {
   "cell_type": "code",
   "execution_count": null,
   "id": "73687cde",
   "metadata": {},
   "outputs": [],
   "source": [
    "sns.pairplot(ml[[\"starRating\", \"Sentiment_Score\"]])\n"
   ]
  },
  {
   "cell_type": "markdown",
   "id": "fcaff64b",
   "metadata": {},
   "source": [
    "MAYBE I SHOULD DO THE SENTIMENT ANALYSIS AFTER THE CLEANING\n",
    "\n",
    "I WILL DO IT TOMORROW "
   ]
  },
  {
   "cell_type": "code",
   "execution_count": null,
   "id": "641e1665",
   "metadata": {},
   "outputs": [],
   "source": [
    "ml.info()"
   ]
  },
  {
   "cell_type": "code",
   "execution_count": null,
   "id": "b7440c6a",
   "metadata": {},
   "outputs": [],
   "source": [
    "import numpy as np\n",
    "from tensorflow.keras.preprocessing.text import Tokenizer\n",
    "from tensorflow.keras.preprocessing.sequence import pad_sequences\n",
    "\n",
    "# Assuming df is your DataFrame and 'text_column' is the column with text data\n",
    "texts = ml[\"no_emojis\"].tolist()\n",
    "\n",
    "tokenizer = Tokenizer()\n",
    "tokenizer.fit_on_texts(texts)\n",
    "sequences = tokenizer.texts_to_sequences(texts)\n",
    "\n",
    "# Tokenize and convert text to sequences\n",
    "sequences = tokenizer.texts_to_sequences(texts)\n",
    "\n",
    "# Pad sequences to ensure consistent length\n",
    "padded_sequences = pad_sequences(sequences, maxlen=max_sequence_length)\n",
    "\n",
    "# Make predictions\n",
    "predictions = model.predict(padded_sequences)\n",
    "\n",
    "# Assuming a binary classification task, set a threshold (e.g., 0.5)\n",
    "threshold = 0.5\n",
    "binary_predictions = (predictions > threshold).astype(int)\n",
    "\n",
    "# Add the predictions to your DataFrame\n",
    "ml[\"predictions\"] = binary_predictions\n"
   ]
  },
  {
   "cell_type": "code",
   "execution_count": null,
   "id": "26b80d93",
   "metadata": {},
   "outputs": [],
   "source": [
    "ml.tail()"
   ]
  },
  {
   "cell_type": "code",
   "execution_count": null,
   "id": "1169c8b7",
   "metadata": {},
   "outputs": [],
   "source": [
    "import numpy as np\n",
    "from tensorflow.keras.models import Sequential\n",
    "from tensorflow.keras.layers import Embedding, Conv1D, GlobalMaxPooling1D, Dense\n",
    "from tensorflow.keras.preprocessing.text import Tokenizer\n",
    "from tensorflow.keras.preprocessing.sequence import pad_sequences\n",
    "\n",
    "# Example text data and sentiment analysis labels\n",
    "texts = ml[\"no_emojis\"].tolist()\n",
    "sentiment_labels = ml[\"Sentiment_Score\"].tolist()  # Replace \"sentiment_column\" with the actual column name in your DataFrame\n",
    "\n",
    "# Convert sentiment labels to binary format\n",
    "# For example, consider \"positive\" as 1 and merge \"neutral\" and \"negative\" as 0\n",
    "binary_labels = np.array([1 if sentiment == \"positive\" else 0 for sentiment in sentiment_labels])\n",
    "\n",
    "# Tokenize and convert text to sequences\n",
    "tokenizer = Tokenizer()\n",
    "tokenizer.fit_on_texts(texts)\n",
    "sequences = tokenizer.texts_to_sequences(texts)\n",
    "\n",
    "max_sequence_length = max(len(seq) for seq in sequences)\n",
    "padded_sequences = pad_sequences(sequences, maxlen=max_sequence_length)\n",
    "\n",
    "from sklearn.model_selection import train_test_split\n",
    "\n",
    "# Assuming X contains your features (padded_sequences) and y contains your labels (binary_labels)\n",
    "X_train, X_test, y_train, y_test = train_test_split(padded_sequences, binary_labels, test_size=0.2, random_state=42)\n",
    "\n",
    "\n",
    "# Dummy embedding matrix (replace this with your pre-trained embeddings)\n",
    "embedding_dim = 100\n",
    "vocab_size = len(tokenizer.word_index) + 1\n",
    "embedding_matrix = np.random.rand(vocab_size, embedding_dim)\n",
    "\n",
    "# Build the CNN model\n",
    "model = Sequential()\n",
    "model.add(Embedding(input_dim=vocab_size, output_dim=embedding_dim, input_length=max_sequence_length, weights=[embedding_matrix], trainable=False))\n",
    "model.add(Conv1D(filters=64, kernel_size=3, activation='relu'))\n",
    "model.add(GlobalMaxPooling1D())\n",
    "model.add(Dense(1, activation='sigmoid'))\n",
    "\n",
    "# Compile the model\n",
    "model.compile(optimizer='adam', loss='binary_crossentropy', metrics=['accuracy'])\n",
    "\n",
    "# Train the model\n",
    "model.fit(padded_sequences, binary_labels, epochs=10, batch_size=1)\n"
   ]
  },
  {
   "cell_type": "code",
   "execution_count": null,
   "id": "a44497a0",
   "metadata": {},
   "outputs": [],
   "source": [
    "ml.info()"
   ]
  },
  {
   "cell_type": "code",
   "execution_count": null,
   "id": "9f2d5b56",
   "metadata": {},
   "outputs": [],
   "source": []
  },
  {
   "cell_type": "code",
   "execution_count": null,
   "id": "12f63c49",
   "metadata": {},
   "outputs": [],
   "source": [
    "pip install wordcloud matplotlib"
   ]
  },
  {
   "cell_type": "code",
   "execution_count": null,
   "id": "0119a30f",
   "metadata": {},
   "outputs": [],
   "source": []
  }
 ],
 "metadata": {
  "kernelspec": {
   "display_name": "Python 3 (ipykernel)",
   "language": "python",
   "name": "python3"
  },
  "language_info": {
   "codemirror_mode": {
    "name": "ipython",
    "version": 3
   },
   "file_extension": ".py",
   "mimetype": "text/x-python",
   "name": "python",
   "nbconvert_exporter": "python",
   "pygments_lexer": "ipython3",
   "version": "3.11.5"
  }
 },
 "nbformat": 4,
 "nbformat_minor": 5
}
