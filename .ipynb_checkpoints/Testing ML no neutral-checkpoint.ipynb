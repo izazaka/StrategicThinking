{
 "cells": [
  {
   "cell_type": "markdown",
   "id": "1c87f23a",
   "metadata": {},
   "source": [
    "Assessment Task\n",
    "This assessment aims to evaluate your ability to apply project management methodology to develop and execute a capstone project. You will select a dataset, conduct exploratory data analysis, pre-process the data, implement at least one machine learning algorithm, and present your findings effectively through a comprehensive report. The capstone project will be based on a dataset of your choice from any domain, such as finance, marketing, or any other.\n",
    "\n",
    "You will submit a comprehensive report detailing the project plan, business understanding, data understanding, data preparation, machine learning implementation, and an artefact of code. The report should also include a summary of the findings, conclusions, and any future recommendations. The report should be presented in a clear and concise manner, and it should demonstrate your ability to use a project management methodology. The project management methodology should enable you to prioritise tasks and monitor the progress of the capstone project. Additionally, the report should provide an overview of the project's timeline, milestones achieved, and any challenges faced during the implementation phase. It should highlight the key insights gained from analysing the data and present any significant trends or patterns observed. Moreover, the report should address any limitations or constraints encountered during the project and propose potential solutions for future improvements. \n",
    "\n",
    "Further details of the assessment:\n",
    "A GitHub repo must be created, and the Jupyter Notebook and report Word document must be put into a GitHub repo for version control. The lecturer will be added to the repo as a collaborator. The GitHub repo link will be added at the end of the report. There should be at least 5 to 10 commits throughout the time worked on the project.\n",
    "Exploratory data analysis of your dataset. Use descriptive statistics.\n",
    "Use at least one machine learning algorithm.\n",
    "Support your analysis with references and properly reference ALL sources that you have used. WARNING – If you do not support your work, you will not receive a high mark!\n",
    "\n",
    "WORD COUNT: 2,000 words. If your report is too short or long, you may lose up to 10% of marks!\n"
   ]
  },
  {
   "cell_type": "markdown",
   "id": "eadb6147",
   "metadata": {},
   "source": [
    "# Libraries "
   ]
  },
  {
   "cell_type": "code",
   "execution_count": 1,
   "id": "47845496",
   "metadata": {},
   "outputs": [],
   "source": [
    "import pandas as pd\n",
    "\n",
    "\n",
    "import numpy as np\n",
    "\n",
    "import matplotlib as mpl\n",
    "\n",
    "import matplotlib.pyplot as plt\n",
    "\n",
    "import seaborn as sns \n",
    "\n",
    "sns.set(color_codes = True)\n",
    "\n",
    "%matplotlib inline\n",
    "\n",
    "import plotly.graph_objects as go\n",
    "\n",
    "from plotly.subplots import make_subplots\n",
    "\n",
    "from sklearn.feature_extraction.text import CountVectorizer\n",
    "\n",
    "from collections import Counter\n",
    "\n",
    "from nltk.sentiment import SentimentIntensityAnalyzer\n",
    "\n",
    "from sklearn.metrics import confusion_matrix\n",
    "\n",
    "from sklearn.metrics import classification_report\n",
    "\n",
    "from sklearn.feature_extraction.text import TfidfVectorizer\n",
    "\n",
    "from nltk.tokenize import word_tokenize\n",
    "\n",
    "from sklearn.model_selection import train_test_split\n",
    "\n",
    "from sklearn.ensemble import RandomForestClassifier\n",
    "\n",
    "from sklearn.metrics import accuracy_score\n",
    "\n",
    "from textblob import Word\n",
    "\n",
    "from nltk.stem import WordNetLemmatizer\n",
    "\n",
    "from nltk.tokenize import word_tokenize\n",
    "\n",
    "from sklearn.feature_extraction.text import CountVectorizer\n",
    "\n",
    "from sklearn.model_selection import GridSearchCV\n",
    "\n",
    "from sklearn.pipeline import Pipeline\n",
    "\n",
    "from sklearn.model_selection import cross_val_score, KFold\n",
    "\n",
    "\n"
   ]
  },
  {
   "cell_type": "code",
   "execution_count": 2,
   "id": "1dc55ca0",
   "metadata": {},
   "outputs": [],
   "source": [
    "#pip install emoji\n"
   ]
  },
  {
   "cell_type": "code",
   "execution_count": 3,
   "id": "27200250",
   "metadata": {},
   "outputs": [],
   "source": [
    "#pip install genderize\n"
   ]
  },
  {
   "cell_type": "code",
   "execution_count": 4,
   "id": "4e4ffa7f",
   "metadata": {},
   "outputs": [],
   "source": [
    "#pip install gender-guesser"
   ]
  },
  {
   "cell_type": "code",
   "execution_count": 5,
   "id": "68f67bbd",
   "metadata": {},
   "outputs": [],
   "source": [
    "#pip install --upgrade seaborn pandas"
   ]
  },
  {
   "cell_type": "markdown",
   "id": "d96e66e7",
   "metadata": {},
   "source": [
    "# Raw Data"
   ]
  },
  {
   "cell_type": "code",
   "execution_count": 6,
   "id": "2d52cb7d",
   "metadata": {},
   "outputs": [],
   "source": [
    "f = pd.read_csv(\"file2793.csv\")"
   ]
  },
  {
   "cell_type": "code",
   "execution_count": 7,
   "id": "3ed63d05",
   "metadata": {},
   "outputs": [
    {
     "data": {
      "text/html": [
       "<div>\n",
       "<style scoped>\n",
       "    .dataframe tbody tr th:only-of-type {\n",
       "        vertical-align: middle;\n",
       "    }\n",
       "\n",
       "    .dataframe tbody tr th {\n",
       "        vertical-align: top;\n",
       "    }\n",
       "\n",
       "    .dataframe thead th {\n",
       "        text-align: right;\n",
       "    }\n",
       "</style>\n",
       "<table border=\"1\" class=\"dataframe\">\n",
       "  <thead>\n",
       "    <tr style=\"text-align: right;\">\n",
       "      <th></th>\n",
       "      <th>displayName</th>\n",
       "      <th>starRating</th>\n",
       "      <th>comment</th>\n",
       "      <th>createTime</th>\n",
       "      <th>updateTime</th>\n",
       "      <th>reviewer_name</th>\n",
       "      <th>review_id</th>\n",
       "    </tr>\n",
       "  </thead>\n",
       "  <tbody>\n",
       "    <tr>\n",
       "      <th>0</th>\n",
       "      <td>Cássio Trajano</td>\n",
       "      <td>FIVE</td>\n",
       "      <td>(Translated by Google) I'm there every beginni...</td>\n",
       "      <td>2019-01-29T16:49:28.556676Z</td>\n",
       "      <td>2019-01-29T16:49:28.556676Z</td>\n",
       "      <td>Cássio Trajano</td>\n",
       "      <td>ChdDSUhNMG9nS0VJQ0FnSURJdjktNTN3RRAB</td>\n",
       "    </tr>\n",
       "    <tr>\n",
       "      <th>1</th>\n",
       "      <td>Danielle cristine faria de oliveira</td>\n",
       "      <td>FIVE</td>\n",
       "      <td>(Translated by Google) Very beautiful and plea...</td>\n",
       "      <td>2019-01-28T14:40:59.180127Z</td>\n",
       "      <td>2019-01-28T14:40:59.180127Z</td>\n",
       "      <td>Danielle cristine faria de oliveira</td>\n",
       "      <td>ChdDSUhNMG9nS0VJQ0FnSURJbjdMczlRRRAB</td>\n",
       "    </tr>\n",
       "    <tr>\n",
       "      <th>2</th>\n",
       "      <td>Arthursousa Vieira</td>\n",
       "      <td>FIVE</td>\n",
       "      <td>(Translated by Google) One of the best canping...</td>\n",
       "      <td>2019-01-28T02:05:47.566036Z</td>\n",
       "      <td>2019-01-28T02:05:47.566036Z</td>\n",
       "      <td>Arthursousa Vieira</td>\n",
       "      <td>ChZDSUhNMG9nS0VJQ0FnSURJcjYtZGFREAE</td>\n",
       "    </tr>\n",
       "    <tr>\n",
       "      <th>3</th>\n",
       "      <td>EVANDERSON ALEXANDRE</td>\n",
       "      <td>FIVE</td>\n",
       "      <td>(Translated by Google) Family place but I foun...</td>\n",
       "      <td>2019-01-28T00:56:38.167475Z</td>\n",
       "      <td>2019-01-28T00:56:38.167475Z</td>\n",
       "      <td>EVANDERSON ALEXANDRE</td>\n",
       "      <td>ChZDSUhNMG9nS0VJQ0FnSURJcjl2eVBnEAE</td>\n",
       "    </tr>\n",
       "    <tr>\n",
       "      <th>4</th>\n",
       "      <td>Richard Xavier</td>\n",
       "      <td>FIVE</td>\n",
       "      <td>(Translated by Google) Great place! Affordable...</td>\n",
       "      <td>2019-01-27T20:42:17.239839Z</td>\n",
       "      <td>2019-01-27T20:43:28.501122Z</td>\n",
       "      <td>Richard Xavier</td>\n",
       "      <td>ChdDSUhNMG9nS0VJQ0FnSURJcl9iMDV3RRAB</td>\n",
       "    </tr>\n",
       "  </tbody>\n",
       "</table>\n",
       "</div>"
      ],
      "text/plain": [
       "                           displayName starRating  \\\n",
       "0                       Cássio Trajano       FIVE   \n",
       "1  Danielle cristine faria de oliveira       FIVE   \n",
       "2                   Arthursousa Vieira       FIVE   \n",
       "3                 EVANDERSON ALEXANDRE       FIVE   \n",
       "4                       Richard Xavier       FIVE   \n",
       "\n",
       "                                             comment  \\\n",
       "0  (Translated by Google) I'm there every beginni...   \n",
       "1  (Translated by Google) Very beautiful and plea...   \n",
       "2  (Translated by Google) One of the best canping...   \n",
       "3  (Translated by Google) Family place but I foun...   \n",
       "4  (Translated by Google) Great place! Affordable...   \n",
       "\n",
       "                    createTime                   updateTime  \\\n",
       "0  2019-01-29T16:49:28.556676Z  2019-01-29T16:49:28.556676Z   \n",
       "1  2019-01-28T14:40:59.180127Z  2019-01-28T14:40:59.180127Z   \n",
       "2  2019-01-28T02:05:47.566036Z  2019-01-28T02:05:47.566036Z   \n",
       "3  2019-01-28T00:56:38.167475Z  2019-01-28T00:56:38.167475Z   \n",
       "4  2019-01-27T20:42:17.239839Z  2019-01-27T20:43:28.501122Z   \n",
       "\n",
       "                         reviewer_name                             review_id  \n",
       "0                       Cássio Trajano  ChdDSUhNMG9nS0VJQ0FnSURJdjktNTN3RRAB  \n",
       "1  Danielle cristine faria de oliveira  ChdDSUhNMG9nS0VJQ0FnSURJbjdMczlRRRAB  \n",
       "2                   Arthursousa Vieira   ChZDSUhNMG9nS0VJQ0FnSURJcjYtZGFREAE  \n",
       "3                 EVANDERSON ALEXANDRE   ChZDSUhNMG9nS0VJQ0FnSURJcjl2eVBnEAE  \n",
       "4                       Richard Xavier  ChdDSUhNMG9nS0VJQ0FnSURJcl9iMDV3RRAB  "
      ]
     },
     "execution_count": 7,
     "metadata": {},
     "output_type": "execute_result"
    }
   ],
   "source": [
    "f.head()"
   ]
  },
  {
   "cell_type": "code",
   "execution_count": 8,
   "id": "2adaa2c1",
   "metadata": {},
   "outputs": [
    {
     "name": "stdout",
     "output_type": "stream",
     "text": [
      "<class 'pandas.core.frame.DataFrame'>\n",
      "RangeIndex: 2793 entries, 0 to 2792\n",
      "Data columns (total 7 columns):\n",
      " #   Column         Non-Null Count  Dtype \n",
      "---  ------         --------------  ----- \n",
      " 0   displayName    2793 non-null   object\n",
      " 1   starRating     2793 non-null   object\n",
      " 2   comment        1648 non-null   object\n",
      " 3   createTime     2793 non-null   object\n",
      " 4   updateTime     2793 non-null   object\n",
      " 5   reviewer_name  2793 non-null   object\n",
      " 6   review_id      2793 non-null   object\n",
      "dtypes: object(7)\n",
      "memory usage: 152.9+ KB\n"
     ]
    }
   ],
   "source": [
    "f.info()"
   ]
  },
  {
   "cell_type": "markdown",
   "id": "aa6c6d12",
   "metadata": {},
   "source": [
    "# EDA"
   ]
  },
  {
   "cell_type": "code",
   "execution_count": 9,
   "id": "d6d1de3d",
   "metadata": {},
   "outputs": [
    {
     "data": {
      "text/plain": [
       "array(['FIVE', 'THREE', 'FOUR', 'TWO', 'ONE'], dtype=object)"
      ]
     },
     "execution_count": 9,
     "metadata": {},
     "output_type": "execute_result"
    }
   ],
   "source": [
    "f[\"starRating\"].unique()"
   ]
  },
  {
   "cell_type": "code",
   "execution_count": 10,
   "id": "c8113d14",
   "metadata": {},
   "outputs": [],
   "source": [
    "f[\"starRating\"].replace('ONE', 1, inplace = True)\n",
    "f[\"starRating\"].replace('TWO', 2, inplace = True)\n",
    "f[\"starRating\"].replace('THREE', 3, inplace = True)\n",
    "f[\"starRating\"].replace('FOUR', 4, inplace = True)\n",
    "f[\"starRating\"].replace('FIVE', 5, inplace = True)"
   ]
  },
  {
   "cell_type": "code",
   "execution_count": 11,
   "id": "5ae2631d",
   "metadata": {},
   "outputs": [],
   "source": [
    "import pandas as pd\n",
    "\n",
    "f['comment'] = f['comment'].astype(str)  \n",
    "\n",
    "split_df = f['comment'].str.split('(Original)', expand=True, n=1)\n",
    "f['before_original'] = split_df[0]\n",
    "f['after_original'] = split_df[1]"
   ]
  },
  {
   "cell_type": "code",
   "execution_count": 12,
   "id": "9f6b5601",
   "metadata": {},
   "outputs": [
    {
     "data": {
      "text/html": [
       "<div>\n",
       "<style scoped>\n",
       "    .dataframe tbody tr th:only-of-type {\n",
       "        vertical-align: middle;\n",
       "    }\n",
       "\n",
       "    .dataframe tbody tr th {\n",
       "        vertical-align: top;\n",
       "    }\n",
       "\n",
       "    .dataframe thead th {\n",
       "        text-align: right;\n",
       "    }\n",
       "</style>\n",
       "<table border=\"1\" class=\"dataframe\">\n",
       "  <thead>\n",
       "    <tr style=\"text-align: right;\">\n",
       "      <th></th>\n",
       "      <th>displayName</th>\n",
       "      <th>starRating</th>\n",
       "      <th>comment</th>\n",
       "      <th>createTime</th>\n",
       "      <th>updateTime</th>\n",
       "      <th>reviewer_name</th>\n",
       "      <th>review_id</th>\n",
       "      <th>before_original</th>\n",
       "      <th>after_original</th>\n",
       "    </tr>\n",
       "  </thead>\n",
       "  <tbody>\n",
       "    <tr>\n",
       "      <th>2788</th>\n",
       "      <td>Reinaldo Soares da Silva</td>\n",
       "      <td>5</td>\n",
       "      <td>nan</td>\n",
       "      <td>2018-01-22T21:10:06.355Z</td>\n",
       "      <td>2018-01-22T21:10:06.355Z</td>\n",
       "      <td>Reinaldo Soares da Silva</td>\n",
       "      <td>ChZDSUhNMG9nS0VJQ0FnSURBbGYtM0pBEAE</td>\n",
       "      <td>nan</td>\n",
       "      <td>None</td>\n",
       "    </tr>\n",
       "    <tr>\n",
       "      <th>2789</th>\n",
       "      <td>Fael Faul</td>\n",
       "      <td>5</td>\n",
       "      <td>(Translated by Google) Too good\\n\\n(Original)\\...</td>\n",
       "      <td>2018-01-21T21:24:40.996Z</td>\n",
       "      <td>2018-01-21T21:24:40.996Z</td>\n",
       "      <td>Fael Faul</td>\n",
       "      <td>ChdDSUhNMG9nS0VJQ0FnSUNRLTU3UjNnRRAB</td>\n",
       "      <td>(Translated by Google) Too good\\n\\n(</td>\n",
       "      <td>Original</td>\n",
       "    </tr>\n",
       "    <tr>\n",
       "      <th>2790</th>\n",
       "      <td>Eliana Azevedo</td>\n",
       "      <td>5</td>\n",
       "      <td>nan</td>\n",
       "      <td>2018-01-20T21:07:19.716Z</td>\n",
       "      <td>2018-01-20T21:07:19.716Z</td>\n",
       "      <td>Eliana Azevedo</td>\n",
       "      <td>ChdDSUhNMG9nS0VJQ0FnSUNnNnR5RnNnRRAB</td>\n",
       "      <td>nan</td>\n",
       "      <td>None</td>\n",
       "    </tr>\n",
       "    <tr>\n",
       "      <th>2791</th>\n",
       "      <td>Silvia Aquino</td>\n",
       "      <td>5</td>\n",
       "      <td>nan</td>\n",
       "      <td>2018-01-20T18:15:38.871Z</td>\n",
       "      <td>2018-01-20T18:15:38.871Z</td>\n",
       "      <td>Silvia Aquino</td>\n",
       "      <td>ChZDSUhNMG9nS0VJQ0FnSURBbHNEdUt3EAE</td>\n",
       "      <td>nan</td>\n",
       "      <td>None</td>\n",
       "    </tr>\n",
       "    <tr>\n",
       "      <th>2792</th>\n",
       "      <td>Marcelo o empreendedor</td>\n",
       "      <td>5</td>\n",
       "      <td>(Translated by Google) The group played paintb...</td>\n",
       "      <td>2018-01-20T15:32:53.260Z</td>\n",
       "      <td>2018-01-20T15:34:48.062Z</td>\n",
       "      <td>Marcelo o empreendedor</td>\n",
       "      <td>ChdDSUhNMG9nS0VJQ0FnSUNZaUtiLW1BRRAB</td>\n",
       "      <td>(Translated by Google) The group played paintb...</td>\n",
       "      <td>Original</td>\n",
       "    </tr>\n",
       "  </tbody>\n",
       "</table>\n",
       "</div>"
      ],
      "text/plain": [
       "                   displayName  starRating  \\\n",
       "2788  Reinaldo Soares da Silva           5   \n",
       "2789                 Fael Faul           5   \n",
       "2790            Eliana Azevedo           5   \n",
       "2791             Silvia Aquino           5   \n",
       "2792    Marcelo o empreendedor           5   \n",
       "\n",
       "                                                comment  \\\n",
       "2788                                                nan   \n",
       "2789  (Translated by Google) Too good\\n\\n(Original)\\...   \n",
       "2790                                                nan   \n",
       "2791                                                nan   \n",
       "2792  (Translated by Google) The group played paintb...   \n",
       "\n",
       "                    createTime                updateTime  \\\n",
       "2788  2018-01-22T21:10:06.355Z  2018-01-22T21:10:06.355Z   \n",
       "2789  2018-01-21T21:24:40.996Z  2018-01-21T21:24:40.996Z   \n",
       "2790  2018-01-20T21:07:19.716Z  2018-01-20T21:07:19.716Z   \n",
       "2791  2018-01-20T18:15:38.871Z  2018-01-20T18:15:38.871Z   \n",
       "2792  2018-01-20T15:32:53.260Z  2018-01-20T15:34:48.062Z   \n",
       "\n",
       "                 reviewer_name                             review_id  \\\n",
       "2788  Reinaldo Soares da Silva   ChZDSUhNMG9nS0VJQ0FnSURBbGYtM0pBEAE   \n",
       "2789                 Fael Faul  ChdDSUhNMG9nS0VJQ0FnSUNRLTU3UjNnRRAB   \n",
       "2790            Eliana Azevedo  ChdDSUhNMG9nS0VJQ0FnSUNnNnR5RnNnRRAB   \n",
       "2791             Silvia Aquino   ChZDSUhNMG9nS0VJQ0FnSURBbHNEdUt3EAE   \n",
       "2792    Marcelo o empreendedor  ChdDSUhNMG9nS0VJQ0FnSUNZaUtiLW1BRRAB   \n",
       "\n",
       "                                        before_original after_original  \n",
       "2788                                                nan           None  \n",
       "2789               (Translated by Google) Too good\\n\\n(       Original  \n",
       "2790                                                nan           None  \n",
       "2791                                                nan           None  \n",
       "2792  (Translated by Google) The group played paintb...       Original  "
      ]
     },
     "execution_count": 12,
     "metadata": {},
     "output_type": "execute_result"
    }
   ],
   "source": [
    "f.tail()"
   ]
  },
  {
   "cell_type": "code",
   "execution_count": 13,
   "id": "9a2ecbeb",
   "metadata": {},
   "outputs": [],
   "source": [
    "import pandas as pd\n",
    "\n",
    "def clean_text(text):\n",
    "    if pd.notna(text):  \n",
    "       \n",
    "        text = text.replace('(Translated by Google)', '')\n",
    "\n",
    "        text = text.replace('\\n\\n(Original)\\n', '')\n",
    "  \n",
    "        text = text.replace('\\n\\n', '')\n",
    "  \n",
    "        text = text.replace('(', '')\n",
    "\n",
    "        text = text.replace('\\\\', '')\n",
    "\n",
    "        return text.strip()  \n",
    "    else:\n",
    "        return text  \n",
    "\n",
    "f['cleaned_text'] = f['before_original'].apply(clean_text)"
   ]
  },
  {
   "cell_type": "code",
   "execution_count": 14,
   "id": "2a230c92",
   "metadata": {},
   "outputs": [
    {
     "data": {
      "text/html": [
       "<div>\n",
       "<style scoped>\n",
       "    .dataframe tbody tr th:only-of-type {\n",
       "        vertical-align: middle;\n",
       "    }\n",
       "\n",
       "    .dataframe tbody tr th {\n",
       "        vertical-align: top;\n",
       "    }\n",
       "\n",
       "    .dataframe thead th {\n",
       "        text-align: right;\n",
       "    }\n",
       "</style>\n",
       "<table border=\"1\" class=\"dataframe\">\n",
       "  <thead>\n",
       "    <tr style=\"text-align: right;\">\n",
       "      <th></th>\n",
       "      <th>displayName</th>\n",
       "      <th>starRating</th>\n",
       "      <th>comment</th>\n",
       "      <th>createTime</th>\n",
       "      <th>updateTime</th>\n",
       "      <th>reviewer_name</th>\n",
       "      <th>review_id</th>\n",
       "      <th>before_original</th>\n",
       "      <th>after_original</th>\n",
       "      <th>cleaned_text</th>\n",
       "    </tr>\n",
       "  </thead>\n",
       "  <tbody>\n",
       "    <tr>\n",
       "      <th>0</th>\n",
       "      <td>Cássio Trajano</td>\n",
       "      <td>5</td>\n",
       "      <td>(Translated by Google) I'm there every beginni...</td>\n",
       "      <td>2019-01-29T16:49:28.556676Z</td>\n",
       "      <td>2019-01-29T16:49:28.556676Z</td>\n",
       "      <td>Cássio Trajano</td>\n",
       "      <td>ChdDSUhNMG9nS0VJQ0FnSURJdjktNTN3RRAB</td>\n",
       "      <td>(Translated by Google) I'm there every beginni...</td>\n",
       "      <td>Original</td>\n",
       "      <td>I'm there every beginning of the year I highly...</td>\n",
       "    </tr>\n",
       "    <tr>\n",
       "      <th>1</th>\n",
       "      <td>Danielle cristine faria de oliveira</td>\n",
       "      <td>5</td>\n",
       "      <td>(Translated by Google) Very beautiful and plea...</td>\n",
       "      <td>2019-01-28T14:40:59.180127Z</td>\n",
       "      <td>2019-01-28T14:40:59.180127Z</td>\n",
       "      <td>Danielle cristine faria de oliveira</td>\n",
       "      <td>ChdDSUhNMG9nS0VJQ0FnSURJbjdMczlRRRAB</td>\n",
       "      <td>(Translated by Google) Very beautiful and plea...</td>\n",
       "      <td>Original</td>\n",
       "      <td>Very beautiful and pleasant place. Breakfast a...</td>\n",
       "    </tr>\n",
       "    <tr>\n",
       "      <th>2</th>\n",
       "      <td>Arthursousa Vieira</td>\n",
       "      <td>5</td>\n",
       "      <td>(Translated by Google) One of the best canping...</td>\n",
       "      <td>2019-01-28T02:05:47.566036Z</td>\n",
       "      <td>2019-01-28T02:05:47.566036Z</td>\n",
       "      <td>Arthursousa Vieira</td>\n",
       "      <td>ChZDSUhNMG9nS0VJQ0FnSURJcjYtZGFREAE</td>\n",
       "      <td>(Translated by Google) One of the best canping...</td>\n",
       "      <td>Original</td>\n",
       "      <td>One of the best canpings in the region</td>\n",
       "    </tr>\n",
       "    <tr>\n",
       "      <th>3</th>\n",
       "      <td>EVANDERSON ALEXANDRE</td>\n",
       "      <td>5</td>\n",
       "      <td>(Translated by Google) Family place but I foun...</td>\n",
       "      <td>2019-01-28T00:56:38.167475Z</td>\n",
       "      <td>2019-01-28T00:56:38.167475Z</td>\n",
       "      <td>EVANDERSON ALEXANDRE</td>\n",
       "      <td>ChZDSUhNMG9nS0VJQ0FnSURJcjl2eVBnEAE</td>\n",
       "      <td>(Translated by Google) Family place but I foun...</td>\n",
       "      <td>Original</td>\n",
       "      <td>Family place but I found things on site expens...</td>\n",
       "    </tr>\n",
       "    <tr>\n",
       "      <th>4</th>\n",
       "      <td>Richard Xavier</td>\n",
       "      <td>5</td>\n",
       "      <td>(Translated by Google) Great place! Affordable...</td>\n",
       "      <td>2019-01-27T20:42:17.239839Z</td>\n",
       "      <td>2019-01-27T20:43:28.501122Z</td>\n",
       "      <td>Richard Xavier</td>\n",
       "      <td>ChdDSUhNMG9nS0VJQ0FnSURJcl9iMDV3RRAB</td>\n",
       "      <td>(Translated by Google) Great place! Affordable...</td>\n",
       "      <td>Original</td>\n",
       "      <td>Great place! Affordable price and that's where...</td>\n",
       "    </tr>\n",
       "  </tbody>\n",
       "</table>\n",
       "</div>"
      ],
      "text/plain": [
       "                           displayName  starRating  \\\n",
       "0                       Cássio Trajano           5   \n",
       "1  Danielle cristine faria de oliveira           5   \n",
       "2                   Arthursousa Vieira           5   \n",
       "3                 EVANDERSON ALEXANDRE           5   \n",
       "4                       Richard Xavier           5   \n",
       "\n",
       "                                             comment  \\\n",
       "0  (Translated by Google) I'm there every beginni...   \n",
       "1  (Translated by Google) Very beautiful and plea...   \n",
       "2  (Translated by Google) One of the best canping...   \n",
       "3  (Translated by Google) Family place but I foun...   \n",
       "4  (Translated by Google) Great place! Affordable...   \n",
       "\n",
       "                    createTime                   updateTime  \\\n",
       "0  2019-01-29T16:49:28.556676Z  2019-01-29T16:49:28.556676Z   \n",
       "1  2019-01-28T14:40:59.180127Z  2019-01-28T14:40:59.180127Z   \n",
       "2  2019-01-28T02:05:47.566036Z  2019-01-28T02:05:47.566036Z   \n",
       "3  2019-01-28T00:56:38.167475Z  2019-01-28T00:56:38.167475Z   \n",
       "4  2019-01-27T20:42:17.239839Z  2019-01-27T20:43:28.501122Z   \n",
       "\n",
       "                         reviewer_name                             review_id  \\\n",
       "0                       Cássio Trajano  ChdDSUhNMG9nS0VJQ0FnSURJdjktNTN3RRAB   \n",
       "1  Danielle cristine faria de oliveira  ChdDSUhNMG9nS0VJQ0FnSURJbjdMczlRRRAB   \n",
       "2                   Arthursousa Vieira   ChZDSUhNMG9nS0VJQ0FnSURJcjYtZGFREAE   \n",
       "3                 EVANDERSON ALEXANDRE   ChZDSUhNMG9nS0VJQ0FnSURJcjl2eVBnEAE   \n",
       "4                       Richard Xavier  ChdDSUhNMG9nS0VJQ0FnSURJcl9iMDV3RRAB   \n",
       "\n",
       "                                     before_original after_original  \\\n",
       "0  (Translated by Google) I'm there every beginni...       Original   \n",
       "1  (Translated by Google) Very beautiful and plea...       Original   \n",
       "2  (Translated by Google) One of the best canping...       Original   \n",
       "3  (Translated by Google) Family place but I foun...       Original   \n",
       "4  (Translated by Google) Great place! Affordable...       Original   \n",
       "\n",
       "                                        cleaned_text  \n",
       "0  I'm there every beginning of the year I highly...  \n",
       "1  Very beautiful and pleasant place. Breakfast a...  \n",
       "2             One of the best canpings in the region  \n",
       "3  Family place but I found things on site expens...  \n",
       "4  Great place! Affordable price and that's where...  "
      ]
     },
     "execution_count": 14,
     "metadata": {},
     "output_type": "execute_result"
    }
   ],
   "source": [
    "f.head()"
   ]
  },
  {
   "cell_type": "code",
   "execution_count": 15,
   "id": "7b410617",
   "metadata": {},
   "outputs": [
    {
     "data": {
      "text/plain": [
       "'Very beautiful and pleasant place. Breakfast and lunch have a lot of variety and are delicious.'"
      ]
     },
     "execution_count": 15,
     "metadata": {},
     "output_type": "execute_result"
    }
   ],
   "source": [
    "f[\"cleaned_text\"].iloc[1]"
   ]
  },
  {
   "cell_type": "code",
   "execution_count": 16,
   "id": "7b63e150",
   "metadata": {},
   "outputs": [
    {
     "name": "stdout",
     "output_type": "stream",
     "text": [
      "<class 'pandas.core.frame.DataFrame'>\n",
      "RangeIndex: 2793 entries, 0 to 2792\n",
      "Data columns (total 10 columns):\n",
      " #   Column           Non-Null Count  Dtype \n",
      "---  ------           --------------  ----- \n",
      " 0   displayName      2793 non-null   object\n",
      " 1   starRating       2793 non-null   int64 \n",
      " 2   comment          2793 non-null   object\n",
      " 3   createTime       2793 non-null   object\n",
      " 4   updateTime       2793 non-null   object\n",
      " 5   reviewer_name    2793 non-null   object\n",
      " 6   review_id        2793 non-null   object\n",
      " 7   before_original  2793 non-null   object\n",
      " 8   after_original   1613 non-null   object\n",
      " 9   cleaned_text     2793 non-null   object\n",
      "dtypes: int64(1), object(9)\n",
      "memory usage: 218.3+ KB\n"
     ]
    }
   ],
   "source": [
    "f.info()"
   ]
  },
  {
   "cell_type": "code",
   "execution_count": 17,
   "id": "d8907970",
   "metadata": {},
   "outputs": [
    {
     "name": "stdout",
     "output_type": "stream",
     "text": [
      "Sentiment: 0.4301541314931242\n"
     ]
    }
   ],
   "source": [
    "from textblob import TextBlob\n",
    "\n",
    "mixed_language_text = f[\"cleaned_text\"].str.cat(sep=' ')\n",
    "\n",
    "blob = TextBlob(mixed_language_text)\n",
    "sentiment = blob.sentiment\n",
    "\n",
    "print(f\"Sentiment: {sentiment.polarity}\")"
   ]
  },
  {
   "cell_type": "code",
   "execution_count": 18,
   "id": "4acdf010",
   "metadata": {},
   "outputs": [],
   "source": [
    "def analyze_sentiment(text):\n",
    "    blob = TextBlob(text)\n",
    "    sentiment = blob.sentiment\n",
    "    return sentiment.polarity\n",
    "\n",
    "f['Sentiment_Score'] = f[\"cleaned_text\"].apply(analyze_sentiment)"
   ]
  },
  {
   "cell_type": "code",
   "execution_count": 19,
   "id": "279c2578",
   "metadata": {},
   "outputs": [
    {
     "data": {
      "text/html": [
       "<div>\n",
       "<style scoped>\n",
       "    .dataframe tbody tr th:only-of-type {\n",
       "        vertical-align: middle;\n",
       "    }\n",
       "\n",
       "    .dataframe tbody tr th {\n",
       "        vertical-align: top;\n",
       "    }\n",
       "\n",
       "    .dataframe thead th {\n",
       "        text-align: right;\n",
       "    }\n",
       "</style>\n",
       "<table border=\"1\" class=\"dataframe\">\n",
       "  <thead>\n",
       "    <tr style=\"text-align: right;\">\n",
       "      <th></th>\n",
       "      <th>displayName</th>\n",
       "      <th>starRating</th>\n",
       "      <th>comment</th>\n",
       "      <th>createTime</th>\n",
       "      <th>updateTime</th>\n",
       "      <th>reviewer_name</th>\n",
       "      <th>review_id</th>\n",
       "      <th>before_original</th>\n",
       "      <th>after_original</th>\n",
       "      <th>cleaned_text</th>\n",
       "      <th>Sentiment_Score</th>\n",
       "    </tr>\n",
       "  </thead>\n",
       "  <tbody>\n",
       "    <tr>\n",
       "      <th>2788</th>\n",
       "      <td>Reinaldo Soares da Silva</td>\n",
       "      <td>5</td>\n",
       "      <td>nan</td>\n",
       "      <td>2018-01-22T21:10:06.355Z</td>\n",
       "      <td>2018-01-22T21:10:06.355Z</td>\n",
       "      <td>Reinaldo Soares da Silva</td>\n",
       "      <td>ChZDSUhNMG9nS0VJQ0FnSURBbGYtM0pBEAE</td>\n",
       "      <td>nan</td>\n",
       "      <td>None</td>\n",
       "      <td>nan</td>\n",
       "      <td>0.0</td>\n",
       "    </tr>\n",
       "    <tr>\n",
       "      <th>2789</th>\n",
       "      <td>Fael Faul</td>\n",
       "      <td>5</td>\n",
       "      <td>(Translated by Google) Too good\\n\\n(Original)\\...</td>\n",
       "      <td>2018-01-21T21:24:40.996Z</td>\n",
       "      <td>2018-01-21T21:24:40.996Z</td>\n",
       "      <td>Fael Faul</td>\n",
       "      <td>ChdDSUhNMG9nS0VJQ0FnSUNRLTU3UjNnRRAB</td>\n",
       "      <td>(Translated by Google) Too good\\n\\n(</td>\n",
       "      <td>Original</td>\n",
       "      <td>Too good</td>\n",
       "      <td>0.7</td>\n",
       "    </tr>\n",
       "    <tr>\n",
       "      <th>2790</th>\n",
       "      <td>Eliana Azevedo</td>\n",
       "      <td>5</td>\n",
       "      <td>nan</td>\n",
       "      <td>2018-01-20T21:07:19.716Z</td>\n",
       "      <td>2018-01-20T21:07:19.716Z</td>\n",
       "      <td>Eliana Azevedo</td>\n",
       "      <td>ChdDSUhNMG9nS0VJQ0FnSUNnNnR5RnNnRRAB</td>\n",
       "      <td>nan</td>\n",
       "      <td>None</td>\n",
       "      <td>nan</td>\n",
       "      <td>0.0</td>\n",
       "    </tr>\n",
       "    <tr>\n",
       "      <th>2791</th>\n",
       "      <td>Silvia Aquino</td>\n",
       "      <td>5</td>\n",
       "      <td>nan</td>\n",
       "      <td>2018-01-20T18:15:38.871Z</td>\n",
       "      <td>2018-01-20T18:15:38.871Z</td>\n",
       "      <td>Silvia Aquino</td>\n",
       "      <td>ChZDSUhNMG9nS0VJQ0FnSURBbHNEdUt3EAE</td>\n",
       "      <td>nan</td>\n",
       "      <td>None</td>\n",
       "      <td>nan</td>\n",
       "      <td>0.0</td>\n",
       "    </tr>\n",
       "    <tr>\n",
       "      <th>2792</th>\n",
       "      <td>Marcelo o empreendedor</td>\n",
       "      <td>5</td>\n",
       "      <td>(Translated by Google) The group played paintb...</td>\n",
       "      <td>2018-01-20T15:32:53.260Z</td>\n",
       "      <td>2018-01-20T15:34:48.062Z</td>\n",
       "      <td>Marcelo o empreendedor</td>\n",
       "      <td>ChdDSUhNMG9nS0VJQ0FnSUNZaUtiLW1BRRAB</td>\n",
       "      <td>(Translated by Google) The group played paintb...</td>\n",
       "      <td>Original</td>\n",
       "      <td>The group played paintball, a lot of fun.</td>\n",
       "      <td>0.3</td>\n",
       "    </tr>\n",
       "  </tbody>\n",
       "</table>\n",
       "</div>"
      ],
      "text/plain": [
       "                   displayName  starRating  \\\n",
       "2788  Reinaldo Soares da Silva           5   \n",
       "2789                 Fael Faul           5   \n",
       "2790            Eliana Azevedo           5   \n",
       "2791             Silvia Aquino           5   \n",
       "2792    Marcelo o empreendedor           5   \n",
       "\n",
       "                                                comment  \\\n",
       "2788                                                nan   \n",
       "2789  (Translated by Google) Too good\\n\\n(Original)\\...   \n",
       "2790                                                nan   \n",
       "2791                                                nan   \n",
       "2792  (Translated by Google) The group played paintb...   \n",
       "\n",
       "                    createTime                updateTime  \\\n",
       "2788  2018-01-22T21:10:06.355Z  2018-01-22T21:10:06.355Z   \n",
       "2789  2018-01-21T21:24:40.996Z  2018-01-21T21:24:40.996Z   \n",
       "2790  2018-01-20T21:07:19.716Z  2018-01-20T21:07:19.716Z   \n",
       "2791  2018-01-20T18:15:38.871Z  2018-01-20T18:15:38.871Z   \n",
       "2792  2018-01-20T15:32:53.260Z  2018-01-20T15:34:48.062Z   \n",
       "\n",
       "                 reviewer_name                             review_id  \\\n",
       "2788  Reinaldo Soares da Silva   ChZDSUhNMG9nS0VJQ0FnSURBbGYtM0pBEAE   \n",
       "2789                 Fael Faul  ChdDSUhNMG9nS0VJQ0FnSUNRLTU3UjNnRRAB   \n",
       "2790            Eliana Azevedo  ChdDSUhNMG9nS0VJQ0FnSUNnNnR5RnNnRRAB   \n",
       "2791             Silvia Aquino   ChZDSUhNMG9nS0VJQ0FnSURBbHNEdUt3EAE   \n",
       "2792    Marcelo o empreendedor  ChdDSUhNMG9nS0VJQ0FnSUNZaUtiLW1BRRAB   \n",
       "\n",
       "                                        before_original after_original  \\\n",
       "2788                                                nan           None   \n",
       "2789               (Translated by Google) Too good\\n\\n(       Original   \n",
       "2790                                                nan           None   \n",
       "2791                                                nan           None   \n",
       "2792  (Translated by Google) The group played paintb...       Original   \n",
       "\n",
       "                                   cleaned_text  Sentiment_Score  \n",
       "2788                                        nan              0.0  \n",
       "2789                                   Too good              0.7  \n",
       "2790                                        nan              0.0  \n",
       "2791                                        nan              0.0  \n",
       "2792  The group played paintball, a lot of fun.              0.3  "
      ]
     },
     "execution_count": 19,
     "metadata": {},
     "output_type": "execute_result"
    }
   ],
   "source": [
    "f.tail()"
   ]
  },
  {
   "cell_type": "code",
   "execution_count": 20,
   "id": "fb4379b2",
   "metadata": {
    "scrolled": false
   },
   "outputs": [
    {
     "data": {
      "image/png": "[encoded data removed]",
      "text/plain": [
       "<Figure size 640x480 with 1 Axes>"
      ]
     },
     "metadata": {},
     "output_type": "display_data"
    }
   ],
   "source": [
    "plt.hist(f[\"Sentiment_Score\"], bins = 20, edgecolor = 'black')\n",
    "plt.xlabel('Sentiment Score')\n",
    "plt.ylabel('Frequency')\n",
    "plt.title('Distribution of Sentiment Scores')\n",
    "plt.show()"
   ]
  },
  {
   "cell_type": "code",
   "execution_count": 21,
   "id": "3348a68b",
   "metadata": {},
   "outputs": [
    {
     "data": {
      "text/html": [
       "<div>\n",
       "<style scoped>\n",
       "    .dataframe tbody tr th:only-of-type {\n",
       "        vertical-align: middle;\n",
       "    }\n",
       "\n",
       "    .dataframe tbody tr th {\n",
       "        vertical-align: top;\n",
       "    }\n",
       "\n",
       "    .dataframe thead th {\n",
       "        text-align: right;\n",
       "    }\n",
       "</style>\n",
       "<table border=\"1\" class=\"dataframe\">\n",
       "  <thead>\n",
       "    <tr style=\"text-align: right;\">\n",
       "      <th></th>\n",
       "      <th>displayName</th>\n",
       "      <th>starRating</th>\n",
       "      <th>comment</th>\n",
       "      <th>createTime</th>\n",
       "      <th>updateTime</th>\n",
       "      <th>reviewer_name</th>\n",
       "      <th>review_id</th>\n",
       "      <th>before_original</th>\n",
       "      <th>after_original</th>\n",
       "      <th>cleaned_text</th>\n",
       "      <th>Sentiment_Score</th>\n",
       "    </tr>\n",
       "  </thead>\n",
       "  <tbody>\n",
       "    <tr>\n",
       "      <th>0</th>\n",
       "      <td>Cássio Trajano</td>\n",
       "      <td>5</td>\n",
       "      <td>(Translated by Google) I'm there every beginni...</td>\n",
       "      <td>2019-01-29T16:49:28.556676Z</td>\n",
       "      <td>2019-01-29T16:49:28.556676Z</td>\n",
       "      <td>Cássio Trajano</td>\n",
       "      <td>ChdDSUhNMG9nS0VJQ0FnSURJdjktNTN3RRAB</td>\n",
       "      <td>(Translated by Google) I'm there every beginni...</td>\n",
       "      <td>Original</td>\n",
       "      <td>I'm there every beginning of the year I highly...</td>\n",
       "      <td>0.030000</td>\n",
       "    </tr>\n",
       "    <tr>\n",
       "      <th>1</th>\n",
       "      <td>Danielle cristine faria de oliveira</td>\n",
       "      <td>5</td>\n",
       "      <td>(Translated by Google) Very beautiful and plea...</td>\n",
       "      <td>2019-01-28T14:40:59.180127Z</td>\n",
       "      <td>2019-01-28T14:40:59.180127Z</td>\n",
       "      <td>Danielle cristine faria de oliveira</td>\n",
       "      <td>ChdDSUhNMG9nS0VJQ0FnSURJbjdMczlRRRAB</td>\n",
       "      <td>(Translated by Google) Very beautiful and plea...</td>\n",
       "      <td>Original</td>\n",
       "      <td>Very beautiful and pleasant place. Breakfast a...</td>\n",
       "      <td>0.911111</td>\n",
       "    </tr>\n",
       "  </tbody>\n",
       "</table>\n",
       "</div>"
      ],
      "text/plain": [
       "                           displayName  starRating  \\\n",
       "0                       Cássio Trajano           5   \n",
       "1  Danielle cristine faria de oliveira           5   \n",
       "\n",
       "                                             comment  \\\n",
       "0  (Translated by Google) I'm there every beginni...   \n",
       "1  (Translated by Google) Very beautiful and plea...   \n",
       "\n",
       "                    createTime                   updateTime  \\\n",
       "0  2019-01-29T16:49:28.556676Z  2019-01-29T16:49:28.556676Z   \n",
       "1  2019-01-28T14:40:59.180127Z  2019-01-28T14:40:59.180127Z   \n",
       "\n",
       "                         reviewer_name                             review_id  \\\n",
       "0                       Cássio Trajano  ChdDSUhNMG9nS0VJQ0FnSURJdjktNTN3RRAB   \n",
       "1  Danielle cristine faria de oliveira  ChdDSUhNMG9nS0VJQ0FnSURJbjdMczlRRRAB   \n",
       "\n",
       "                                     before_original after_original  \\\n",
       "0  (Translated by Google) I'm there every beginni...       Original   \n",
       "1  (Translated by Google) Very beautiful and plea...       Original   \n",
       "\n",
       "                                        cleaned_text  Sentiment_Score  \n",
       "0  I'm there every beginning of the year I highly...         0.030000  \n",
       "1  Very beautiful and pleasant place. Breakfast a...         0.911111  "
      ]
     },
     "execution_count": 21,
     "metadata": {},
     "output_type": "execute_result"
    }
   ],
   "source": [
    "f.dropna(subset=['cleaned_text'], inplace=True)\n",
    "\n",
    "f.head(2)"
   ]
  },
  {
   "cell_type": "code",
   "execution_count": 22,
   "id": "3ab76e54",
   "metadata": {},
   "outputs": [],
   "source": [
    "import numpy as np\n",
    "\n",
    "f.replace('nan', np.nan, inplace=True)\n",
    "\n",
    "f.dropna(subset=['cleaned_text'], inplace=True)"
   ]
  },
  {
   "cell_type": "code",
   "execution_count": 23,
   "id": "ad581a16",
   "metadata": {},
   "outputs": [
    {
     "name": "stdout",
     "output_type": "stream",
     "text": [
      "<class 'pandas.core.frame.DataFrame'>\n",
      "Index: 1648 entries, 0 to 2792\n",
      "Data columns (total 11 columns):\n",
      " #   Column           Non-Null Count  Dtype  \n",
      "---  ------           --------------  -----  \n",
      " 0   displayName      1648 non-null   object \n",
      " 1   starRating       1648 non-null   int64  \n",
      " 2   comment          1648 non-null   object \n",
      " 3   createTime       1648 non-null   object \n",
      " 4   updateTime       1648 non-null   object \n",
      " 5   reviewer_name    1648 non-null   object \n",
      " 6   review_id        1648 non-null   object \n",
      " 7   before_original  1648 non-null   object \n",
      " 8   after_original   1613 non-null   object \n",
      " 9   cleaned_text     1648 non-null   object \n",
      " 10  Sentiment_Score  1648 non-null   float64\n",
      "dtypes: float64(1), int64(1), object(9)\n",
      "memory usage: 154.5+ KB\n"
     ]
    }
   ],
   "source": [
    "f.info()"
   ]
  },
  {
   "cell_type": "code",
   "execution_count": 24,
   "id": "22abd26e",
   "metadata": {},
   "outputs": [
    {
     "data": {
      "text/html": [
       "<div>\n",
       "<style scoped>\n",
       "    .dataframe tbody tr th:only-of-type {\n",
       "        vertical-align: middle;\n",
       "    }\n",
       "\n",
       "    .dataframe tbody tr th {\n",
       "        vertical-align: top;\n",
       "    }\n",
       "\n",
       "    .dataframe thead th {\n",
       "        text-align: right;\n",
       "    }\n",
       "</style>\n",
       "<table border=\"1\" class=\"dataframe\">\n",
       "  <thead>\n",
       "    <tr style=\"text-align: right;\">\n",
       "      <th></th>\n",
       "      <th>displayName</th>\n",
       "      <th>starRating</th>\n",
       "      <th>comment</th>\n",
       "      <th>createTime</th>\n",
       "      <th>updateTime</th>\n",
       "      <th>reviewer_name</th>\n",
       "      <th>review_id</th>\n",
       "      <th>before_original</th>\n",
       "      <th>after_original</th>\n",
       "      <th>cleaned_text</th>\n",
       "      <th>Sentiment_Score</th>\n",
       "    </tr>\n",
       "  </thead>\n",
       "  <tbody>\n",
       "    <tr>\n",
       "      <th>2789</th>\n",
       "      <td>Fael Faul</td>\n",
       "      <td>5</td>\n",
       "      <td>(Translated by Google) Too good\\n\\n(Original)\\...</td>\n",
       "      <td>2018-01-21T21:24:40.996Z</td>\n",
       "      <td>2018-01-21T21:24:40.996Z</td>\n",
       "      <td>Fael Faul</td>\n",
       "      <td>ChdDSUhNMG9nS0VJQ0FnSUNRLTU3UjNnRRAB</td>\n",
       "      <td>(Translated by Google) Too good\\n\\n(</td>\n",
       "      <td>Original</td>\n",
       "      <td>Too good</td>\n",
       "      <td>0.7</td>\n",
       "    </tr>\n",
       "    <tr>\n",
       "      <th>2792</th>\n",
       "      <td>Marcelo o empreendedor</td>\n",
       "      <td>5</td>\n",
       "      <td>(Translated by Google) The group played paintb...</td>\n",
       "      <td>2018-01-20T15:32:53.260Z</td>\n",
       "      <td>2018-01-20T15:34:48.062Z</td>\n",
       "      <td>Marcelo o empreendedor</td>\n",
       "      <td>ChdDSUhNMG9nS0VJQ0FnSUNZaUtiLW1BRRAB</td>\n",
       "      <td>(Translated by Google) The group played paintb...</td>\n",
       "      <td>Original</td>\n",
       "      <td>The group played paintball, a lot of fun.</td>\n",
       "      <td>0.3</td>\n",
       "    </tr>\n",
       "  </tbody>\n",
       "</table>\n",
       "</div>"
      ],
      "text/plain": [
       "                 displayName  starRating  \\\n",
       "2789               Fael Faul           5   \n",
       "2792  Marcelo o empreendedor           5   \n",
       "\n",
       "                                                comment  \\\n",
       "2789  (Translated by Google) Too good\\n\\n(Original)\\...   \n",
       "2792  (Translated by Google) The group played paintb...   \n",
       "\n",
       "                    createTime                updateTime  \\\n",
       "2789  2018-01-21T21:24:40.996Z  2018-01-21T21:24:40.996Z   \n",
       "2792  2018-01-20T15:32:53.260Z  2018-01-20T15:34:48.062Z   \n",
       "\n",
       "               reviewer_name                             review_id  \\\n",
       "2789               Fael Faul  ChdDSUhNMG9nS0VJQ0FnSUNRLTU3UjNnRRAB   \n",
       "2792  Marcelo o empreendedor  ChdDSUhNMG9nS0VJQ0FnSUNZaUtiLW1BRRAB   \n",
       "\n",
       "                                        before_original after_original  \\\n",
       "2789               (Translated by Google) Too good\\n\\n(       Original   \n",
       "2792  (Translated by Google) The group played paintb...       Original   \n",
       "\n",
       "                                   cleaned_text  Sentiment_Score  \n",
       "2789                                   Too good              0.7  \n",
       "2792  The group played paintball, a lot of fun.              0.3  "
      ]
     },
     "execution_count": 24,
     "metadata": {},
     "output_type": "execute_result"
    }
   ],
   "source": [
    "f.tail(2)"
   ]
  },
  {
   "cell_type": "markdown",
   "id": "095e40ed",
   "metadata": {},
   "source": [
    "# Experiment with Names and Gender"
   ]
  },
  {
   "cell_type": "code",
   "execution_count": 25,
   "id": "4231407c",
   "metadata": {},
   "outputs": [
    {
     "data": {
      "text/html": [
       "<div>\n",
       "<style scoped>\n",
       "    .dataframe tbody tr th:only-of-type {\n",
       "        vertical-align: middle;\n",
       "    }\n",
       "\n",
       "    .dataframe tbody tr th {\n",
       "        vertical-align: top;\n",
       "    }\n",
       "\n",
       "    .dataframe thead th {\n",
       "        text-align: right;\n",
       "    }\n",
       "</style>\n",
       "<table border=\"1\" class=\"dataframe\">\n",
       "  <thead>\n",
       "    <tr style=\"text-align: right;\">\n",
       "      <th></th>\n",
       "      <th>displayName</th>\n",
       "      <th>starRating</th>\n",
       "      <th>comment</th>\n",
       "      <th>createTime</th>\n",
       "      <th>updateTime</th>\n",
       "      <th>reviewer_name</th>\n",
       "      <th>review_id</th>\n",
       "      <th>before_original</th>\n",
       "      <th>after_original</th>\n",
       "      <th>cleaned_text</th>\n",
       "      <th>Sentiment_Score</th>\n",
       "      <th>first_name</th>\n",
       "    </tr>\n",
       "  </thead>\n",
       "  <tbody>\n",
       "    <tr>\n",
       "      <th>2783</th>\n",
       "      <td>Paulo Veiga</td>\n",
       "      <td>5</td>\n",
       "      <td>(Translated by Google) Perfect infrastructure ...</td>\n",
       "      <td>2018-01-26T02:22:26.101Z</td>\n",
       "      <td>2018-01-26T02:23:37.650Z</td>\n",
       "      <td>Paulo Veiga</td>\n",
       "      <td>ChdDSUhNMG9nS0VJQ0FnSURRZ2RPQ2tBRRAB</td>\n",
       "      <td>(Translated by Google) Perfect infrastructure ...</td>\n",
       "      <td>Original</td>\n",
       "      <td>Perfect infrastructure for camping and accommo...</td>\n",
       "      <td>0.583333</td>\n",
       "      <td>Paulo</td>\n",
       "    </tr>\n",
       "    <tr>\n",
       "      <th>2786</th>\n",
       "      <td>Cleyton Andrade</td>\n",
       "      <td>5</td>\n",
       "      <td>Top</td>\n",
       "      <td>2018-01-24T21:08:08.628Z</td>\n",
       "      <td>2018-01-24T21:08:08.628Z</td>\n",
       "      <td>Cleyton Andrade</td>\n",
       "      <td>ChZDSUhNMG9nS0VJQ0FnSURnMkxYZlVREAE</td>\n",
       "      <td>Top</td>\n",
       "      <td>None</td>\n",
       "      <td>Top</td>\n",
       "      <td>0.500000</td>\n",
       "      <td>Cleyton</td>\n",
       "    </tr>\n",
       "    <tr>\n",
       "      <th>2787</th>\n",
       "      <td>Ana Paula Talhari</td>\n",
       "      <td>5</td>\n",
       "      <td>(Translated by Google) Delightful place!\\n\\n(O...</td>\n",
       "      <td>2018-01-24T17:20:26.722Z</td>\n",
       "      <td>2018-01-24T17:21:35.770Z</td>\n",
       "      <td>Ana Paula Talhari</td>\n",
       "      <td>ChdDSUhNMG9nS0VJQ0FnSUNBeUxHZTl3RRAB</td>\n",
       "      <td>(Translated by Google) Delightful place!\\n\\n(</td>\n",
       "      <td>Original</td>\n",
       "      <td>Delightful place!</td>\n",
       "      <td>1.000000</td>\n",
       "      <td>Ana</td>\n",
       "    </tr>\n",
       "    <tr>\n",
       "      <th>2789</th>\n",
       "      <td>Fael Faul</td>\n",
       "      <td>5</td>\n",
       "      <td>(Translated by Google) Too good\\n\\n(Original)\\...</td>\n",
       "      <td>2018-01-21T21:24:40.996Z</td>\n",
       "      <td>2018-01-21T21:24:40.996Z</td>\n",
       "      <td>Fael Faul</td>\n",
       "      <td>ChdDSUhNMG9nS0VJQ0FnSUNRLTU3UjNnRRAB</td>\n",
       "      <td>(Translated by Google) Too good\\n\\n(</td>\n",
       "      <td>Original</td>\n",
       "      <td>Too good</td>\n",
       "      <td>0.700000</td>\n",
       "      <td>Fael</td>\n",
       "    </tr>\n",
       "    <tr>\n",
       "      <th>2792</th>\n",
       "      <td>Marcelo o empreendedor</td>\n",
       "      <td>5</td>\n",
       "      <td>(Translated by Google) The group played paintb...</td>\n",
       "      <td>2018-01-20T15:32:53.260Z</td>\n",
       "      <td>2018-01-20T15:34:48.062Z</td>\n",
       "      <td>Marcelo o empreendedor</td>\n",
       "      <td>ChdDSUhNMG9nS0VJQ0FnSUNZaUtiLW1BRRAB</td>\n",
       "      <td>(Translated by Google) The group played paintb...</td>\n",
       "      <td>Original</td>\n",
       "      <td>The group played paintball, a lot of fun.</td>\n",
       "      <td>0.300000</td>\n",
       "      <td>Marcelo</td>\n",
       "    </tr>\n",
       "  </tbody>\n",
       "</table>\n",
       "</div>"
      ],
      "text/plain": [
       "                 displayName  starRating  \\\n",
       "2783             Paulo Veiga           5   \n",
       "2786         Cleyton Andrade           5   \n",
       "2787       Ana Paula Talhari           5   \n",
       "2789               Fael Faul           5   \n",
       "2792  Marcelo o empreendedor           5   \n",
       "\n",
       "                                                comment  \\\n",
       "2783  (Translated by Google) Perfect infrastructure ...   \n",
       "2786                                                Top   \n",
       "2787  (Translated by Google) Delightful place!\\n\\n(O...   \n",
       "2789  (Translated by Google) Too good\\n\\n(Original)\\...   \n",
       "2792  (Translated by Google) The group played paintb...   \n",
       "\n",
       "                    createTime                updateTime  \\\n",
       "2783  2018-01-26T02:22:26.101Z  2018-01-26T02:23:37.650Z   \n",
       "2786  2018-01-24T21:08:08.628Z  2018-01-24T21:08:08.628Z   \n",
       "2787  2018-01-24T17:20:26.722Z  2018-01-24T17:21:35.770Z   \n",
       "2789  2018-01-21T21:24:40.996Z  2018-01-21T21:24:40.996Z   \n",
       "2792  2018-01-20T15:32:53.260Z  2018-01-20T15:34:48.062Z   \n",
       "\n",
       "               reviewer_name                             review_id  \\\n",
       "2783             Paulo Veiga  ChdDSUhNMG9nS0VJQ0FnSURRZ2RPQ2tBRRAB   \n",
       "2786         Cleyton Andrade   ChZDSUhNMG9nS0VJQ0FnSURnMkxYZlVREAE   \n",
       "2787       Ana Paula Talhari  ChdDSUhNMG9nS0VJQ0FnSUNBeUxHZTl3RRAB   \n",
       "2789               Fael Faul  ChdDSUhNMG9nS0VJQ0FnSUNRLTU3UjNnRRAB   \n",
       "2792  Marcelo o empreendedor  ChdDSUhNMG9nS0VJQ0FnSUNZaUtiLW1BRRAB   \n",
       "\n",
       "                                        before_original after_original  \\\n",
       "2783  (Translated by Google) Perfect infrastructure ...       Original   \n",
       "2786                                                Top           None   \n",
       "2787      (Translated by Google) Delightful place!\\n\\n(       Original   \n",
       "2789               (Translated by Google) Too good\\n\\n(       Original   \n",
       "2792  (Translated by Google) The group played paintb...       Original   \n",
       "\n",
       "                                           cleaned_text  Sentiment_Score  \\\n",
       "2783  Perfect infrastructure for camping and accommo...         0.583333   \n",
       "2786                                                Top         0.500000   \n",
       "2787                                  Delightful place!         1.000000   \n",
       "2789                                           Too good         0.700000   \n",
       "2792          The group played paintball, a lot of fun.         0.300000   \n",
       "\n",
       "     first_name  \n",
       "2783      Paulo  \n",
       "2786    Cleyton  \n",
       "2787        Ana  \n",
       "2789       Fael  \n",
       "2792    Marcelo  "
      ]
     },
     "execution_count": 25,
     "metadata": {},
     "output_type": "execute_result"
    }
   ],
   "source": [
    "f['first_name'] = f[\"displayName\"].str.split().str[0]\n",
    "\n",
    "f.tail()"
   ]
  },
  {
   "cell_type": "code",
   "execution_count": 26,
   "id": "13d5209a",
   "metadata": {},
   "outputs": [
    {
     "data": {
      "text/html": [
       "<div>\n",
       "<style scoped>\n",
       "    .dataframe tbody tr th:only-of-type {\n",
       "        vertical-align: middle;\n",
       "    }\n",
       "\n",
       "    .dataframe tbody tr th {\n",
       "        vertical-align: top;\n",
       "    }\n",
       "\n",
       "    .dataframe thead th {\n",
       "        text-align: right;\n",
       "    }\n",
       "</style>\n",
       "<table border=\"1\" class=\"dataframe\">\n",
       "  <thead>\n",
       "    <tr style=\"text-align: right;\">\n",
       "      <th></th>\n",
       "      <th>first_name</th>\n",
       "      <th>frequency</th>\n",
       "    </tr>\n",
       "  </thead>\n",
       "  <tbody>\n",
       "    <tr>\n",
       "      <th>0</th>\n",
       "      <td>Ana</td>\n",
       "      <td>23</td>\n",
       "    </tr>\n",
       "    <tr>\n",
       "      <th>1</th>\n",
       "      <td>Marcelo</td>\n",
       "      <td>17</td>\n",
       "    </tr>\n",
       "    <tr>\n",
       "      <th>2</th>\n",
       "      <td>Rodrigo</td>\n",
       "      <td>16</td>\n",
       "    </tr>\n",
       "    <tr>\n",
       "      <th>3</th>\n",
       "      <td>Marcos</td>\n",
       "      <td>15</td>\n",
       "    </tr>\n",
       "    <tr>\n",
       "      <th>4</th>\n",
       "      <td>Rafael</td>\n",
       "      <td>14</td>\n",
       "    </tr>\n",
       "  </tbody>\n",
       "</table>\n",
       "</div>"
      ],
      "text/plain": [
       "  first_name  frequency\n",
       "0        Ana         23\n",
       "1    Marcelo         17\n",
       "2    Rodrigo         16\n",
       "3     Marcos         15\n",
       "4     Rafael         14"
      ]
     },
     "execution_count": 26,
     "metadata": {},
     "output_type": "execute_result"
    }
   ],
   "source": [
    "name_counts = f['first_name'].value_counts()\n",
    "\n",
    "name_counts_df = name_counts.reset_index()\n",
    "\n",
    "name_counts_df.columns = ['first_name', 'frequency']\n",
    "\n",
    "name_counts_df.head(5)"
   ]
  },
  {
   "cell_type": "code",
   "execution_count": 27,
   "id": "acd90f09",
   "metadata": {},
   "outputs": [
    {
     "name": "stdout",
     "output_type": "stream",
     "text": [
      "<class 'pandas.core.frame.DataFrame'>\n",
      "RangeIndex: 930 entries, 0 to 929\n",
      "Data columns (total 2 columns):\n",
      " #   Column      Non-Null Count  Dtype \n",
      "---  ------      --------------  ----- \n",
      " 0   first_name  930 non-null    object\n",
      " 1   frequency   930 non-null    int64 \n",
      "dtypes: int64(1), object(1)\n",
      "memory usage: 14.7+ KB\n"
     ]
    }
   ],
   "source": [
    "name_counts_df.info()"
   ]
  },
  {
   "cell_type": "code",
   "execution_count": 28,
   "id": "c2c2379d",
   "metadata": {},
   "outputs": [],
   "source": [
    "top_names = f[\"first_name\"].value_counts().index[:100] "
   ]
  },
  {
   "cell_type": "code",
   "execution_count": 29,
   "id": "844ca30f",
   "metadata": {},
   "outputs": [
    {
     "name": "stdout",
     "output_type": "stream",
     "text": [
      "Index(['Ana', 'Marcelo', 'Rodrigo', 'Marcos', 'Rafael', 'Paulo', 'Anderson',\n",
      "       'Fernando', 'Maria', 'Luiz', 'Fabio', 'Felipe', 'Eduardo', 'Fernanda',\n",
      "       'Patricia', 'Ricardo', 'José', 'Diego', 'Simone', 'Daniel', 'Guilherme',\n",
      "       'Vanessa', 'Marcio', 'Tiago', 'Sergio', 'Leandro', 'Alex', 'Lucas',\n",
      "       'Thiago', 'Sandra', 'Carlos', 'Danilo', 'Pedro', 'Daniela', 'Adriana',\n",
      "       'Juliana', 'Henrique', 'Luciano', 'Alexandre', 'Bruna', 'Jose',\n",
      "       'Renata', 'Matheus', 'João', 'Bruno', 'Elaine', 'Bianca', 'Cristiane',\n",
      "       'Gustavo', 'Eliana', 'Andre', 'Luciana', 'Mauricio', 'Jorge',\n",
      "       'Vinicius', 'Vitor', 'Roberto', 'Joao', 'Katia', 'Leticia', 'Aline',\n",
      "       'Gilberto', 'Paula', 'Angela', 'Lilian', 'Rogerio', 'Diogo', 'Alan',\n",
      "       'Michele', 'Reinaldo', 'Thais', 'Cristina', 'Jaqueline', 'Renato',\n",
      "       'Rose', 'Eliane', 'Douglas', 'Claudio', 'Erika', 'Amanda', 'Junior',\n",
      "       'Flavio', 'Fabiana', 'Leonardo', 'Adriano', 'Andreia', 'Antonio',\n",
      "       'Marcia', 'Francisco', 'Gabriel', 'Vera', 'Alexandra', 'Marta',\n",
      "       'Wellington', 'Ane', 'Edson', 'Arthur', 'Priscila', 'rosangela',\n",
      "       'Larissa'],\n",
      "      dtype='object', name='first_name')\n"
     ]
    }
   ],
   "source": [
    "print(top_names)"
   ]
  },
  {
   "cell_type": "code",
   "execution_count": null,
   "id": "d3aa9d3b",
   "metadata": {},
   "outputs": [],
   "source": [
    "import gender_guesser.detector as gender\n",
    "\n",
    "f['gender'] = f['first_name'].apply(lambda x: gender.Detector().get_gender(x.split()[0]))\n",
    "\n",
    "f['gender'] = f['gender'].apply(lambda x: x.lower() if x != 'unknown' else 'unknown')"
   ]
  },
  {
   "cell_type": "code",
   "execution_count": null,
   "id": "5c7510d4",
   "metadata": {},
   "outputs": [],
   "source": [
    "f[\"gender\"].unique()"
   ]
  },
  {
   "cell_type": "code",
   "execution_count": null,
   "id": "a233362b",
   "metadata": {},
   "outputs": [],
   "source": [
    "plt.hist(f['gender'], bins = 20, edgecolor = 'black')\n",
    "plt.xlabel('Gender')\n",
    "plt.ylabel('Frequency')\n",
    "plt.title('Distribution of Gender')\n",
    "plt.show()"
   ]
  },
  {
   "cell_type": "markdown",
   "id": "cf92bcfe",
   "metadata": {},
   "source": [
    "# Text Preprocessing "
   ]
  },
  {
   "cell_type": "code",
   "execution_count": null,
   "id": "edc8c1da",
   "metadata": {},
   "outputs": [],
   "source": [
    "ct = f[[\"starRating\", \"cleaned_text\", \"Sentiment_Score\"]]"
   ]
  },
  {
   "cell_type": "code",
   "execution_count": null,
   "id": "e0c79422",
   "metadata": {},
   "outputs": [],
   "source": [
    "ct.head()"
   ]
  },
  {
   "cell_type": "code",
   "execution_count": null,
   "id": "f29ee5ea",
   "metadata": {},
   "outputs": [],
   "source": [
    "ct.loc[:, \"word_count\"] = ct[\"cleaned_text\"].apply(lambda x: len(str(x).split(\" \")))"
   ]
  },
  {
   "cell_type": "code",
   "execution_count": null,
   "id": "e629651f",
   "metadata": {},
   "outputs": [],
   "source": [
    "ct.tail()"
   ]
  },
  {
   "cell_type": "code",
   "execution_count": null,
   "id": "07fdc734",
   "metadata": {},
   "outputs": [],
   "source": [
    "def avg_word(sentence):\n",
    "  words = sentence.split()\n",
    "  return (sum(len(word) for word in words)/len(words))\n",
    "\n",
    "ct.loc[:, \"avg_word\"] = ct[\"cleaned_text\"].apply(lambda x: avg_word(x))"
   ]
  },
  {
   "cell_type": "code",
   "execution_count": null,
   "id": "efa20a8f",
   "metadata": {},
   "outputs": [],
   "source": [
    "ct.tail()"
   ]
  },
  {
   "cell_type": "code",
   "execution_count": null,
   "id": "fa152035",
   "metadata": {},
   "outputs": [],
   "source": [
    "plt.hist(ct[\"word_count\"], bins = 30, range=(0, 100), edgecolor = 'black', color = \"skyblue\", align = \"mid\")\n",
    "plt.xlabel(\"Word Count\")\n",
    "plt.xticks(range(0, 100 + 1, 5))\n",
    "plt.ylabel('Frequency')\n",
    "plt.title('Distribution of Word Count - Raw Data')\n",
    "plt.show()"
   ]
  },
  {
   "cell_type": "code",
   "execution_count": null,
   "id": "19e83451",
   "metadata": {},
   "outputs": [],
   "source": [
    "fig,ax = plt.subplots(figsize = (15,8))\n",
    "#Boxplot for total_count outliers\n",
    "sns.boxplot(data = ct[[\"word_count\"]])\n",
    "ax.set_title('Total Count')\n",
    "plt.show()"
   ]
  },
  {
   "cell_type": "code",
   "execution_count": null,
   "id": "e69e0c27",
   "metadata": {},
   "outputs": [],
   "source": [
    "count_above_50 = len(ct[ct[\"word_count\"] > 50])\n",
    "print(\"Number of rows with more than 50 words:\", count_above_50)\n",
    "\n",
    "count_above_100 = len(ct[ct[\"word_count\"] > 100])\n",
    "print(\"Number of rows with more than 100 words:\", count_above_100)\n",
    "\n",
    "count_above_200 = len(ct[ct[\"word_count\"] > 200])\n",
    "print(\"Number of rows with more than 200 words:\", count_above_200)\n",
    "\n",
    "count_above_300 = len(ct[ct[\"word_count\"] > 300])\n",
    "print(\"Number of rows with more than 300 words:\", count_above_300)\n",
    "\n",
    "count_above_500 = len(ct[ct[\"word_count\"] > 500])\n",
    "print(\"Number of rows with more than 500 words:\", count_above_500)"
   ]
  },
  {
   "cell_type": "code",
   "execution_count": null,
   "id": "c4701381",
   "metadata": {},
   "outputs": [],
   "source": [
    "thresholds = [50, 100, 150, 200, 250, 300, 500]\n",
    "\n",
    "count_dict = {}\n",
    "\n",
    "for threshold in thresholds:\n",
    "    count_dict[f'count_above_{threshold}'] = len(ct[ct[\"word_count\"] > threshold])\n",
    "\n",
    "count_words = pd.DataFrame(list(count_dict.items()), columns=['Threshold', 'Count'])\n",
    "\n",
    "count_words.head(7)"
   ]
  },
  {
   "cell_type": "code",
   "execution_count": null,
   "id": "3be5fc0e",
   "metadata": {},
   "outputs": [],
   "source": [
    "pd.set_option('display.max_colwidth', None)\n",
    "\n",
    "rows_above_500 = ct[ct[\"word_count\"] > 500]\n",
    "\n",
    "print(rows_above_500[\"cleaned_text\"])"
   ]
  },
  {
   "cell_type": "code",
   "execution_count": null,
   "id": "2109bfc9",
   "metadata": {},
   "outputs": [],
   "source": [
    "pd.set_option('display.max_colwidth', None)\n",
    "\n",
    "rows_above_500 = ct[ct[\"word_count\"] > 500]\n",
    "\n",
    "print(rows_above_500[\"starRating\"])"
   ]
  },
  {
   "cell_type": "code",
   "execution_count": null,
   "id": "4f8534cf",
   "metadata": {
    "scrolled": false
   },
   "outputs": [],
   "source": [
    "rows_at_index_410 = ct.loc[[410]]\n",
    "rows_at_index_410.head()"
   ]
  },
  {
   "cell_type": "code",
   "execution_count": null,
   "id": "69a7987c",
   "metadata": {},
   "outputs": [],
   "source": [
    "rows_above_200 = ct[ct[\"word_count\"] > 200]\n",
    "\n",
    "print(rows_above_200[\"starRating\"].head(13))"
   ]
  },
  {
   "cell_type": "code",
   "execution_count": null,
   "id": "2917d557",
   "metadata": {},
   "outputs": [],
   "source": [
    "rows_above_200[\"starRating\"].value_counts()"
   ]
  },
  {
   "cell_type": "code",
   "execution_count": null,
   "id": "9d9332f4",
   "metadata": {},
   "outputs": [],
   "source": [
    "ratio_starRating = rows_above_200[\"starRating\"].value_counts(normalize=True)\n",
    "\n",
    "print(ratio_starRating)"
   ]
  },
  {
   "cell_type": "code",
   "execution_count": null,
   "id": "ea8a2290",
   "metadata": {},
   "outputs": [],
   "source": [
    "ratio_starRating = rows_above_200[\"starRating\"].value_counts(normalize=True)\n",
    "counts_starRating = rows_above_200[\"starRating\"].value_counts()\n",
    "\n",
    "df_starRating = pd.DataFrame({\n",
    "    'Counts': counts_starRating,\n",
    "    'Ratio': ratio_starRating\n",
    "})\n",
    "\n",
    "df_starRating.head()"
   ]
  },
  {
   "cell_type": "code",
   "execution_count": null,
   "id": "1e687107",
   "metadata": {},
   "outputs": [],
   "source": []
  },
  {
   "cell_type": "code",
   "execution_count": null,
   "id": "0e3e4ebb",
   "metadata": {},
   "outputs": [],
   "source": [
    "import nltk\n",
    "nltk.download('stopwords')"
   ]
  },
  {
   "cell_type": "code",
   "execution_count": null,
   "id": "5d806101",
   "metadata": {},
   "outputs": [],
   "source": [
    "from nltk.corpus import stopwords\n",
    "stop = stopwords.words('english')"
   ]
  },
  {
   "cell_type": "code",
   "execution_count": null,
   "id": "109885f5",
   "metadata": {},
   "outputs": [],
   "source": [
    "ct['stopwords'] = ct[\"cleaned_text\"].apply(lambda x: len([word for word in str(x).split() if word in stop]) if isinstance(x, str) else 0)"
   ]
  },
  {
   "cell_type": "code",
   "execution_count": null,
   "id": "c5c25f8a",
   "metadata": {},
   "outputs": [],
   "source": [
    "ct.tail()"
   ]
  },
  {
   "cell_type": "code",
   "execution_count": null,
   "id": "ad94c4c2",
   "metadata": {},
   "outputs": [],
   "source": [
    "import nltk\n",
    "from nltk.corpus import stopwords\n",
    "\n",
    "nltk.download('stopwords')  \n",
    "\n",
    "stop = stopwords.words('english') \n",
    "\n",
    "def remove_stopwords(text):\n",
    "    words = [word for word in text.split() if word.lower() not in stop]\n",
    "    return ' '.join(words)\n",
    "\n",
    "ct['no_stopwords'] = ct['cleaned_text'].apply(remove_stopwords)"
   ]
  },
  {
   "cell_type": "code",
   "execution_count": null,
   "id": "57a9885c",
   "metadata": {},
   "outputs": [],
   "source": [
    "ct.tail()"
   ]
  },
  {
   "cell_type": "code",
   "execution_count": null,
   "id": "7baeec35",
   "metadata": {},
   "outputs": [],
   "source": [
    "ct[\"lower\"] = ct[\"no_stopwords\"].str.lower()"
   ]
  },
  {
   "cell_type": "code",
   "execution_count": null,
   "id": "1fddb651",
   "metadata": {},
   "outputs": [],
   "source": [
    "ct.tail()"
   ]
  },
  {
   "cell_type": "code",
   "execution_count": null,
   "id": "739489ad",
   "metadata": {},
   "outputs": [],
   "source": [
    "import re\n",
    "\n",
    "ct['no_punct'] = ct['lower'].str.replace(r'[^a-zA-Z0-9\\s]', '', regex=True)"
   ]
  },
  {
   "cell_type": "code",
   "execution_count": null,
   "id": "75bcb69a",
   "metadata": {},
   "outputs": [],
   "source": [
    "ct.tail(3)"
   ]
  },
  {
   "cell_type": "code",
   "execution_count": null,
   "id": "28e94dc5",
   "metadata": {},
   "outputs": [],
   "source": [
    "import emoji\n",
    "\n",
    "ct['no_emojis'] = ct['no_punct'].apply(lambda x: emoji.demojize(x))"
   ]
  },
  {
   "cell_type": "code",
   "execution_count": null,
   "id": "2d5f3496",
   "metadata": {},
   "outputs": [],
   "source": [
    "lemmatizer = WordNetLemmatizer()\n",
    "\n",
    "ct['lemmatized_text'] = ct['no_emojis'].apply(lambda x: ' '.join([lemmatizer.lemmatize(word) for word in word_tokenize(x)]))"
   ]
  },
  {
   "cell_type": "code",
   "execution_count": null,
   "id": "91af2415",
   "metadata": {},
   "outputs": [],
   "source": [
    "ct.tail(3)"
   ]
  },
  {
   "cell_type": "code",
   "execution_count": null,
   "id": "73687cde",
   "metadata": {},
   "outputs": [],
   "source": [
    "sns.pairplot(ct[[\"starRating\", \"Sentiment_Score\"]])"
   ]
  },
  {
   "cell_type": "markdown",
   "id": "fcaff64b",
   "metadata": {},
   "source": [
    "MAYBE I SHOULD DO THE SENTIMENT ANALYSIS AFTER THE CLEANING\n",
    "\n",
    "I WILL DO IT TOMORROW "
   ]
  },
  {
   "cell_type": "code",
   "execution_count": null,
   "id": "641e1665",
   "metadata": {
    "scrolled": true
   },
   "outputs": [],
   "source": [
    "ct.info()"
   ]
  },
  {
   "cell_type": "code",
   "execution_count": null,
   "id": "c399e463",
   "metadata": {},
   "outputs": [],
   "source": [
    "ct.tail()"
   ]
  },
  {
   "cell_type": "code",
   "execution_count": null,
   "id": "48cf0752",
   "metadata": {},
   "outputs": [],
   "source": [
    "ml = ct[[\"starRating\", \"lemmatized_text\"]]\n",
    "ml.rename(columns={\"lemmatized_text\": \"cleaned_text\"}, inplace=True)"
   ]
  },
  {
   "cell_type": "code",
   "execution_count": null,
   "id": "f95243a0",
   "metadata": {},
   "outputs": [],
   "source": [
    "ml.tail()"
   ]
  },
  {
   "cell_type": "code",
   "execution_count": null,
   "id": "d7497414",
   "metadata": {},
   "outputs": [],
   "source": [
    "from textblob import TextBlob\n",
    "\n",
    "mixed_language_text = ml[\"cleaned_text\"].str.cat(sep=' ')\n",
    "\n",
    "blob = TextBlob(mixed_language_text)\n",
    "sentiment = blob.sentiment\n",
    "\n",
    "print(f\"Sentiment: {sentiment.polarity}\")"
   ]
  },
  {
   "cell_type": "code",
   "execution_count": null,
   "id": "2eef66e3",
   "metadata": {},
   "outputs": [],
   "source": [
    "def analyze_sentiment(text):\n",
    "    blob = TextBlob(text)\n",
    "    sentiment = blob.sentiment\n",
    "    return sentiment.polarity\n",
    "\n",
    "ml['sentiment_score'] = ml[\"cleaned_text\"].apply(analyze_sentiment)"
   ]
  },
  {
   "cell_type": "code",
   "execution_count": null,
   "id": "19e13939",
   "metadata": {},
   "outputs": [],
   "source": [
    "ml.tail()"
   ]
  },
  {
   "cell_type": "code",
   "execution_count": null,
   "id": "d477cd39",
   "metadata": {},
   "outputs": [],
   "source": [
    "plt.hist(f[\"Sentiment_Score\"], bins=20, edgecolor = 'black', color = \"skyblue\")\n",
    "plt.xlabel('Sentiment Score')\n",
    "plt.ylabel('Frequency')\n",
    "plt.title('Distribution of Sentiment Scores - Raw Data')\n",
    "plt.show()\n",
    "\n",
    "plt.hist(ml[\"sentiment_score\"], bins=20, edgecolor = 'black', color = \"orange\")\n",
    "plt.xlabel('Sentiment Score')\n",
    "plt.ylabel('Frequency')\n",
    "plt.title('Distribution of Sentiment Scores - Cleaned Data')\n",
    "plt.show()"
   ]
  },
  {
   "cell_type": "code",
   "execution_count": null,
   "id": "b0c220c4",
   "metadata": {},
   "outputs": [],
   "source": [
    "ml.loc[:, \"word_count\"] = ml[\"cleaned_text\"].apply(lambda x: len(str(x).split(\" \")))"
   ]
  },
  {
   "cell_type": "code",
   "execution_count": null,
   "id": "9e860422",
   "metadata": {},
   "outputs": [],
   "source": [
    "def avg_word(sentence):\n",
    "    words = sentence.split()\n",
    "    if len(words) > 0:\n",
    "        return sum(len(word) for word in words) / len(words)\n",
    "    else:\n",
    "        return 0 \n",
    "\n",
    "\n",
    "ml.loc[:, \"avg_word\"] = ml[\"cleaned_text\"].apply(lambda x: avg_word(x))"
   ]
  },
  {
   "cell_type": "code",
   "execution_count": null,
   "id": "ace90ad5",
   "metadata": {},
   "outputs": [],
   "source": [
    "ml.tail()"
   ]
  },
  {
   "cell_type": "code",
   "execution_count": null,
   "id": "5faf4457",
   "metadata": {},
   "outputs": [],
   "source": [
    "ml['sentiment_label'] = ml['sentiment_score'].apply(lambda x: 'Negative' if x < 0.0 else ('Neutral' if 0.0 <= x <= 0.5 else 'Positive'))"
   ]
  },
  {
   "cell_type": "code",
   "execution_count": null,
   "id": "d50f46ae",
   "metadata": {},
   "outputs": [],
   "source": [
    "ml['sentiment_ml'] = ml['sentiment_score'].apply(lambda x: '0' if x < 0.0 else ('1' if 0.0 <= x <= 0.5 else '2'))"
   ]
  },
  {
   "cell_type": "code",
   "execution_count": null,
   "id": "8860c999",
   "metadata": {},
   "outputs": [],
   "source": [
    "ml.tail()"
   ]
  },
  {
   "cell_type": "code",
   "execution_count": null,
   "id": "8b704136",
   "metadata": {},
   "outputs": [],
   "source": [
    "plt.hist(ml[\"word_count\"], bins = 30, range=(0, 100), edgecolor = 'black', color = \"red\", align = \"mid\")\n",
    "plt.xlabel(\"Word Count\")\n",
    "plt.xticks(range(0, 100 + 1, 5))\n",
    "plt.ylabel('Frequency')\n",
    "plt.title('Distribution of Word Count - Cleaned Data')\n",
    "plt.show()"
   ]
  },
  {
   "cell_type": "code",
   "execution_count": null,
   "id": "314f0e08",
   "metadata": {},
   "outputs": [],
   "source": [
    "ml[\"word_count\"].describe()"
   ]
  },
  {
   "cell_type": "code",
   "execution_count": null,
   "id": "689995d5",
   "metadata": {},
   "outputs": [],
   "source": [
    "sns.countplot(data = ml, x = \"sentiment_ml\", palette = \"bright\").set_title(\"Distribution of Sentiment Score\")"
   ]
  },
  {
   "cell_type": "code",
   "execution_count": null,
   "id": "36f59260",
   "metadata": {},
   "outputs": [],
   "source": [
    "ratio = ml[\"sentiment_ml\"].value_counts(normalize=True)\n",
    "print(ratio)"
   ]
  },
  {
   "cell_type": "code",
   "execution_count": null,
   "id": "2d975afa",
   "metadata": {},
   "outputs": [],
   "source": [
    "sns.countplot(data = ml, x = \"starRating\", palette = \"bright\").set_title(\"Distribution of Ratings\")"
   ]
  },
  {
   "cell_type": "code",
   "execution_count": null,
   "id": "a326fe5d",
   "metadata": {},
   "outputs": [],
   "source": [
    "ml[\"starRating\"].value_counts()"
   ]
  },
  {
   "cell_type": "code",
   "execution_count": null,
   "id": "6c21b129",
   "metadata": {},
   "outputs": [],
   "source": [
    "ratio = ml[\"starRating\"].value_counts(normalize=True)\n",
    "print(ratio)"
   ]
  },
  {
   "cell_type": "markdown",
   "id": "b89b960d",
   "metadata": {},
   "source": [
    "## Word Count and Star Rating "
   ]
  },
  {
   "cell_type": "code",
   "execution_count": null,
   "id": "d5ce3ec0",
   "metadata": {},
   "outputs": [],
   "source": [
    "sns.displot(data = ml, x = \"word_count\", hue = \"starRating\", palette = \"bright\", \n",
    "            kind = \"kde\", fill= True, aspect = 4)"
   ]
  },
  {
   "cell_type": "markdown",
   "id": "5c183988",
   "metadata": {},
   "source": [
    "## Most Commom N-grams"
   ]
  },
  {
   "cell_type": "code",
   "execution_count": null,
   "id": "fdf902b4",
   "metadata": {},
   "outputs": [],
   "source": [
    "def _get_top_ngram(corpus, n=None):\n",
    "   \n",
    "    vec = CountVectorizer(ngram_range=(n, n),\n",
    "                          max_df=0.9,\n",
    "                          ).fit(corpus)\n",
    "    bag_of_words = vec.transform(corpus)\n",
    "    sum_words = bag_of_words.sum(axis=0)\n",
    "    words_freq = [(word, sum_words[0, idx])\n",
    "                  for word, idx in vec.vocabulary_.items()]\n",
    "    words_freq = sorted(words_freq, key=lambda x: x[1], reverse=True)\n",
    "    return words_freq[:15]"
   ]
  },
  {
   "cell_type": "code",
   "execution_count": null,
   "id": "4d8a17e0",
   "metadata": {},
   "outputs": [],
   "source": [
    "fig = make_subplots(rows=1, cols=1)\n",
    "\n",
    "texts = ml[\"cleaned_text\"]\n",
    "\n",
    "new = texts.str.split()\n",
    "new = new.values.tolist()\n",
    "corpus = [word for i in new for word in i]\n",
    "\n",
    "top_n_bigrams = _get_top_ngram(texts, 3)[:15]\n",
    "x, y = map(list, zip(*top_n_bigrams))\n",
    "\n",
    "fig.add_trace(go.Bar(\n",
    "            x=y,\n",
    "            y=x,\n",
    "            orientation = 'h', type = \"bar\",\n",
    "    name = \"3-grams\", marker = dict(color = \"coral\")), 1, 1),\n",
    "\n",
    "fig.update_layout(\n",
    "    autosize = True,\n",
    "    title = dict(\n",
    "        text = '<b>Most Common Trigrams</b>',\n",
    "        )\n",
    "    )\n",
    "    \n",
    "fig.show()"
   ]
  },
  {
   "cell_type": "markdown",
   "id": "1dd8ac1d",
   "metadata": {},
   "source": [
    "https://www.kaggle.com/code/kubes57/sentiment-classifier-rnn\n",
    "\n",
    "source of this graph"
   ]
  },
  {
   "cell_type": "code",
   "execution_count": null,
   "id": "04021570",
   "metadata": {},
   "outputs": [],
   "source": []
  },
  {
   "cell_type": "code",
   "execution_count": null,
   "id": "4807318c",
   "metadata": {},
   "outputs": [],
   "source": [
    "text_data = ml[\"cleaned_text\"]\n",
    "\n",
    "vectorizer = CountVectorizer()\n",
    "\n",
    "word_counts = vectorizer.fit_transform(text_data)\n",
    "\n",
    "words = vectorizer.get_feature_names_out()\n",
    "\n",
    "num_unique_words = len(words)\n",
    "\n",
    "print(\"Number of unique words:\", num_unique_words)"
   ]
  },
  {
   "cell_type": "code",
   "execution_count": null,
   "id": "55e31826",
   "metadata": {},
   "outputs": [],
   "source": []
  },
  {
   "cell_type": "markdown",
   "id": "b0e73c71",
   "metadata": {},
   "source": [
    "# Machine Learning "
   ]
  },
  {
   "cell_type": "markdown",
   "id": "0fca7e41",
   "metadata": {},
   "source": [
    "## Sentiment Intensity Analyzer"
   ]
  },
  {
   "cell_type": "code",
   "execution_count": null,
   "id": "1afb69b0",
   "metadata": {},
   "outputs": [],
   "source": [
    "sia = SentimentIntensityAnalyzer()\n",
    "\n",
    "def get_sentiment(review):\n",
    "    scores = sia.polarity_scores(review)\n",
    "    sentiment_score = scores['compound']\n",
    "    if sentiment_score > 0.1:\n",
    "        return 'positive'\n",
    "    elif sentiment_score < -0.1:\n",
    "        return 'negative'\n",
    "    else:\n",
    "        return 'neutral'\n",
    "    \n",
    "\n",
    "ml2 = ml.copy()\n",
    "ml2['Predicted_Sentiment'] = ml2[\"cleaned_text\"].apply(get_sentiment)\n",
    "\n",
    "\n",
    "print(\"Number of positive reviews:\", len(ml2[ml2['Predicted_Sentiment'] == 'positive']))\n",
    "print(\"Number of negative reviews:\", len(ml2[ml2['Predicted_Sentiment'] == 'negative']))\n",
    "print(\"Number of neutral reviews:\", len(ml2[ml2['Predicted_Sentiment'] == 'neutral']))"
   ]
  },
  {
   "cell_type": "code",
   "execution_count": null,
   "id": "acf7096d",
   "metadata": {},
   "outputs": [],
   "source": [
    "ml2['True_Sentiment'] = ml2['starRating'].map({1: 'negative', \n",
    "                                           2: 'negative', \n",
    "                                           3: 'neutral', \n",
    "                                           4: 'positive', \n",
    "                                           5: 'positive'})"
   ]
  },
  {
   "cell_type": "code",
   "execution_count": null,
   "id": "9f2d5b56",
   "metadata": {},
   "outputs": [],
   "source": [
    "cm = confusion_matrix(ml2['True_Sentiment'], ml2['Predicted_Sentiment'])\n",
    "\n",
    "labels = ['Negative', 'Neutral', 'Positive']\n",
    "sns.heatmap(cm, annot=True, cmap='Reds', fmt='g', xticklabels=labels, yticklabels=labels)\n",
    "plt.xlabel('Predicted sentiment')\n",
    "plt.ylabel('True sentiment')\n",
    "plt.title('Confusion matrix for sentiment analysis')\n",
    "plt.show()"
   ]
  },
  {
   "cell_type": "code",
   "execution_count": null,
   "id": "0119a30f",
   "metadata": {},
   "outputs": [],
   "source": [
    "print(\"\\nClassification report:\\n\", classification_report(ml2['True_Sentiment'], \n",
    "                                                          ml2['Predicted_Sentiment']))"
   ]
  },
  {
   "cell_type": "code",
   "execution_count": null,
   "id": "4d1a7fc3",
   "metadata": {},
   "outputs": [],
   "source": []
  },
  {
   "cell_type": "markdown",
   "id": "733482af",
   "metadata": {},
   "source": [
    "## Random Forest with Star Rating"
   ]
  },
  {
   "cell_type": "code",
   "execution_count": null,
   "id": "a428c60b",
   "metadata": {},
   "outputs": [],
   "source": [
    "positive = [4, 5]\n",
    "#neutral = [3]\n",
    "negative = [1, 2]\n",
    "\n",
    "def map_sentiment(rating):\n",
    "    if rating in positive:\n",
    "        return 2\n",
    "    elif rating in negative:\n",
    "        return 1\n",
    "    #else:\n",
    "       # return 0\n",
    "\n",
    "ml['sentiment']= ml['starRating'].apply(map_sentiment)"
   ]
  },
  {
   "cell_type": "code",
   "execution_count": null,
   "id": "a87aa308",
   "metadata": {},
   "outputs": [],
   "source": [
    "tfidf = TfidfVectorizer(ngram_range=(1, 3), max_features = 1000, tokenizer = word_tokenize)\n",
    "X = tfidf.fit_transform(ml[\"cleaned_text\"])\n",
    "y = ml['sentiment']\n",
    "\n",
    "X_train, X_test, y_train, y_test = train_test_split(X, y, test_size= 0.40, random_state = 12)"
   ]
  },
  {
   "cell_type": "code",
   "execution_count": null,
   "id": "a9c98522",
   "metadata": {
    "scrolled": false
   },
   "outputs": [],
   "source": [
    "rf = RandomForestClassifier()\n",
    "rf.fit(X_train, y_train)\n",
    "\n",
    "predicted_rf = rf.predict(X_test)\n",
    "\n",
    "accuracy_rf = accuracy_score(y_test, predicted_rf)\n",
    "print('Accuracy:', accuracy_rf)\n",
    "print('Classification Report:')\n",
    "print(classification_report(y_test, predicted_rf))"
   ]
  },
  {
   "cell_type": "code",
   "execution_count": null,
   "id": "ae33843c",
   "metadata": {},
   "outputs": [],
   "source": [
    "y_train_pred = rf.predict(X_train)\n",
    "\n",
    "y_test_pred = rf.predict(X_test)\n",
    "\n",
    "accuracy_train = accuracy_score(y_train, y_train_pred)\n",
    "accuracy_test = accuracy_score(y_test, y_test_pred)\n",
    "\n",
    "print(\"Accuracy on Training Set:\", accuracy_train)\n",
    "print(\"Accuracy on Test Set:\", accuracy_test)"
   ]
  },
  {
   "cell_type": "code",
   "execution_count": null,
   "id": "f9c41bd7",
   "metadata": {},
   "outputs": [],
   "source": [
    "pipeline = Pipeline([\n",
    "    ('tfidf', TfidfVectorizer(tokenizer=word_tokenize)),\n",
    "    ('clf', RandomForestClassifier())\n",
    "])\n",
    "\n",
    "param_grid = {\n",
    "    'tfidf__ngram_range': [(1, 1), (1, 2), (1, 3)],\n",
    "    'tfidf__max_features': [500, 1000, 2000],\n",
    "    'clf__n_estimators': [50, 100, 200],\n",
    "    'clf__max_depth': [None, 10, 20]\n",
    "}\n",
    "\n",
    "grid_search = GridSearchCV(pipeline, param_grid, cv=5, n_jobs=-1, verbose=1)\n",
    "\n",
    "grid_search.fit(ml[\"cleaned_text\"], ml['sentiment'])\n",
    "\n",
    "print(\"Best Parameters:\", grid_search.best_params_)"
   ]
  },
  {
   "cell_type": "code",
   "execution_count": null,
   "id": "0a57e43d",
   "metadata": {},
   "outputs": [],
   "source": [
    "print(\"Best Parameters:\", grid_search.best_params_)"
   ]
  },
  {
   "cell_type": "code",
   "execution_count": null,
   "id": "bbfca887",
   "metadata": {},
   "outputs": [],
   "source": [
    "tfidf = TfidfVectorizer(ngram_range=(1, 1), max_features = 500, \n",
    "                        tokenizer = word_tokenize)\n",
    "X = tfidf.fit_transform(ml[\"cleaned_text\"])\n",
    "y = ml['sentiment']\n",
    "\n",
    "X_train, X_test, y_train, y_test = train_test_split(X, y, test_size= 0.40, random_state = 12)"
   ]
  },
  {
   "cell_type": "code",
   "execution_count": null,
   "id": "ba501b06",
   "metadata": {},
   "outputs": [],
   "source": [
    "rf = RandomForestClassifier()\n",
    "rf.fit(X_train, y_train)\n",
    "\n",
    "predicted_rf = rf.predict(X_test)\n",
    "\n",
    "accuracy_rf = accuracy_score(y_test, predicted_rf)\n",
    "print('Accuracy:', accuracy_rf)\n",
    "print('Classification Report:')\n",
    "print(classification_report(y_test, predicted_rf))"
   ]
  },
  {
   "cell_type": "code",
   "execution_count": null,
   "id": "52bdfaec",
   "metadata": {},
   "outputs": [],
   "source": [
    "y_train_pred = rf.predict(X_train)\n",
    "\n",
    "y_test_pred = rf.predict(X_test)\n",
    "\n",
    "accuracy_train = accuracy_score(y_train, y_train_pred)\n",
    "accuracy_test = accuracy_score(y_test, y_test_pred)\n",
    "\n",
    "print(\"Accuracy on Training Set:\", accuracy_train)\n",
    "print(\"Accuracy on Test Set:\", accuracy_test)"
   ]
  },
  {
   "cell_type": "code",
   "execution_count": null,
   "id": "c8a24292",
   "metadata": {},
   "outputs": [],
   "source": [
    "from sklearn.model_selection import cross_val_score, KFold\n",
    "from sklearn.ensemble import RandomForestClassifier\n",
    "\n",
    "model = RandomForestClassifier()\n",
    "\n",
    "kfold = KFold(n_splits=5, shuffle=True, random_state=42)\n",
    "\n",
    "scores = cross_val_score(model, X, y, cv=kfold, scoring='accuracy')\n",
    "\n",
    "print(\"Cross-validated Accuracy: %0.2f (+/- %0.2f)\" % (scores.mean(), scores.std() * 2))"
   ]
  },
  {
   "cell_type": "code",
   "execution_count": null,
   "id": "0c6603a8",
   "metadata": {},
   "outputs": [],
   "source": []
  },
  {
   "cell_type": "markdown",
   "id": "0dde387a",
   "metadata": {},
   "source": [
    "## Random Forest with the Sentiment Score"
   ]
  },
  {
   "cell_type": "code",
   "execution_count": null,
   "id": "6bb1cb72",
   "metadata": {},
   "outputs": [],
   "source": [
    "ml.head()"
   ]
  },
  {
   "cell_type": "code",
   "execution_count": null,
   "id": "08a2183d",
   "metadata": {},
   "outputs": [],
   "source": [
    "tfidf = TfidfVectorizer(ngram_range=(1, 3), max_features = 2000, tokenizer = word_tokenize)\n",
    "X = tfidf.fit_transform(ml[\"cleaned_text\"])\n",
    "y = ml[\"sentiment_ml\"]\n",
    "\n",
    "X_train, X_test, y_train, y_test = train_test_split(X, y, test_size= 0.30, random_state = 12)"
   ]
  },
  {
   "cell_type": "code",
   "execution_count": null,
   "id": "44dc64f9",
   "metadata": {},
   "outputs": [],
   "source": [
    "rf = RandomForestClassifier()\n",
    "rf.fit(X_train, y_train)\n",
    "\n",
    "predicted_rf = rf.predict(X_test)\n",
    "\n",
    "accuracy_rf = accuracy_score(y_test, predicted_rf)\n",
    "print('Accuracy:', accuracy_rf)\n",
    "print('Classification Report:')\n",
    "print(classification_report(y_test, predicted_rf))"
   ]
  },
  {
   "cell_type": "code",
   "execution_count": null,
   "id": "d3569b68",
   "metadata": {},
   "outputs": [],
   "source": [
    "y_train_pred = rf.predict(X_train)\n",
    "\n",
    "y_test_pred = rf.predict(X_test)\n",
    "\n",
    "accuracy_train = accuracy_score(y_train, y_train_pred)\n",
    "accuracy_test = accuracy_score(y_test, y_test_pred)\n",
    "\n",
    "print(\"Accuracy on Training Set:\", accuracy_train)\n",
    "print(\"Accuracy on Test Set:\", accuracy_test)"
   ]
  },
  {
   "cell_type": "code",
   "execution_count": null,
   "id": "41f88ad5",
   "metadata": {},
   "outputs": [],
   "source": [
    "model = RandomForestClassifier()\n",
    "\n",
    "kfold = KFold(n_splits=5, shuffle=True, random_state=42)\n",
    "\n",
    "scores = cross_val_score(model, X, y, cv=kfold, scoring='accuracy')\n",
    "\n",
    "print(\"Cross-validated Accuracy: %0.2f (+/- %0.2f)\" % (scores.mean(), scores.std() * 2))"
   ]
  },
  {
   "cell_type": "code",
   "execution_count": null,
   "id": "4f3be403",
   "metadata": {},
   "outputs": [],
   "source": []
  },
  {
   "cell_type": "code",
   "execution_count": null,
   "id": "fb8677b3",
   "metadata": {},
   "outputs": [],
   "source": []
  },
  {
   "cell_type": "code",
   "execution_count": null,
   "id": "47c85344",
   "metadata": {},
   "outputs": [],
   "source": []
  },
  {
   "cell_type": "markdown",
   "id": "37c6c998",
   "metadata": {},
   "source": [
    "ML from this\n",
    "\n",
    "https://www.kaggle.com/code/anastasiyaigonina/reviews-sentiment-topic-modeling-clustering#Sentiment-Analysis"
   ]
  },
  {
   "cell_type": "code",
   "execution_count": null,
   "id": "ced07f2c",
   "metadata": {},
   "outputs": [],
   "source": []
  },
  {
   "cell_type": "code",
   "execution_count": null,
   "id": "ac499b6b",
   "metadata": {},
   "outputs": [],
   "source": []
  }
 ],
 "metadata": {
  "kernelspec": {
   "display_name": "Python 3 (ipykernel)",
   "language": "python",
   "name": "python3"
  },
  "language_info": {
   "codemirror_mode": {
    "name": "ipython",
    "version": 3
   },
   "file_extension": ".py",
   "mimetype": "text/x-python",
   "name": "python",
   "nbconvert_exporter": "python",
   "pygments_lexer": "ipython3",
   "version": "3.11.5"
  }
 },
 "nbformat": 4,
 "nbformat_minor": 5
}
